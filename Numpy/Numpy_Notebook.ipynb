{
 "cells": [
  {
   "cell_type": "markdown",
   "source": [
    "## Numpy Notebook:\n",
    "\n",
    "Topics:\n",
    "1. Useful Functions\n",
    "2. NumPy datatypes and Attributes (ndarray)\n",
    "3. creating arrays\n",
    "4. viewing arrays and matrices\n",
    "5. manipulating and comparing arrays\n",
    "6. sorting arrays\n",
    "7. use cases"
   ],
   "metadata": {
    "collapsed": false
   }
  },
  {
   "cell_type": "code",
   "execution_count": null,
   "metadata": {
    "collapsed": true
   },
   "outputs": [],
   "source": []
  }
 ],
 "metadata": {
  "kernelspec": {
   "display_name": "Python 3",
   "language": "python",
   "name": "python3"
  },
  "language_info": {
   "codemirror_mode": {
    "name": "ipython",
    "version": 2
   },
   "file_extension": ".py",
   "mimetype": "text/x-python",
   "name": "python",
   "nbconvert_exporter": "python",
   "pygments_lexer": "ipython2",
   "version": "2.7.6"
  }
 },
 "nbformat": 4,
 "nbformat_minor": 0
}
