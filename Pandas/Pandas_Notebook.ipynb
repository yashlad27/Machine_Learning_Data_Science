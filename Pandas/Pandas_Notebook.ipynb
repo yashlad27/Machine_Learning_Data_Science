{
 "cells": [
  {
   "cell_type": "code",
   "execution_count": 28,
   "id": "7e6c56ac",
   "metadata": {},
   "outputs": [],
   "source": [
    "import pandas as pd\n",
    "\n",
    "# 2 main datatypes:\n",
    "series = pd.Series([\"BMW\", \"Toyota\", \"Honda\"])"
   ]
  },
  {
   "cell_type": "code",
   "execution_count": 29,
   "id": "6ac80d0f",
   "metadata": {},
   "outputs": [
    {
     "data": {
      "text/plain": "0       BMW\n1    Toyota\n2     Honda\ndtype: object"
     },
     "execution_count": 29,
     "metadata": {},
     "output_type": "execute_result"
    }
   ],
   "source": [
    "series"
   ]
  },
  {
   "cell_type": "code",
   "execution_count": 30,
   "id": "516b4988",
   "metadata": {},
   "outputs": [
    {
     "data": {
      "text/plain": "0      Red\n1     Blue\n2    White\ndtype: object"
     },
     "execution_count": 30,
     "metadata": {},
     "output_type": "execute_result"
    }
   ],
   "source": [
    "# series 1-dimensional:\n",
    "\n",
    "colors = pd.Series([\"Red\", \"Blue\", \"White\"])\n",
    "colors"
   ]
  },
  {
   "cell_type": "code",
   "execution_count": 31,
   "id": "1dab2c02",
   "metadata": {},
   "outputs": [
    {
     "data": {
      "text/plain": "  Car-make  Color\n0      BMW    Red\n1   Toyota   Blue\n2    Honda  White",
      "text/html": "<div>\n<style scoped>\n    .dataframe tbody tr th:only-of-type {\n        vertical-align: middle;\n    }\n\n    .dataframe tbody tr th {\n        vertical-align: top;\n    }\n\n    .dataframe thead th {\n        text-align: right;\n    }\n</style>\n<table border=\"1\" class=\"dataframe\">\n  <thead>\n    <tr style=\"text-align: right;\">\n      <th></th>\n      <th>Car-make</th>\n      <th>Color</th>\n    </tr>\n  </thead>\n  <tbody>\n    <tr>\n      <th>0</th>\n      <td>BMW</td>\n      <td>Red</td>\n    </tr>\n    <tr>\n      <th>1</th>\n      <td>Toyota</td>\n      <td>Blue</td>\n    </tr>\n    <tr>\n      <th>2</th>\n      <td>Honda</td>\n      <td>White</td>\n    </tr>\n  </tbody>\n</table>\n</div>"
     },
     "execution_count": 31,
     "metadata": {},
     "output_type": "execute_result"
    }
   ],
   "source": [
    "# Dataframe = 2-dimensional:\n",
    "car_data = pd.DataFrame({\"Car-make\":series, \"Color\":colors})\n",
    "car_data"
   ]
  },
  {
   "cell_type": "code",
   "execution_count": 5,
   "id": "5a951b4a",
   "metadata": {},
   "outputs": [],
   "source": [
    "# importing data: \n",
    "\n",
    "car_sales = pd.read_csv(\"car-sales.csv\")\n",
    "\n",
    "# importing data using URL'S:\n",
    "#heart_disease = pd.read_csv(\"https://raw.githubusercontent.com/mrdbourke/zero-to-mastery-ml/master/data/heart-disease.csv\")"
   ]
  },
  {
   "cell_type": "code",
   "execution_count": 6,
   "id": "4d424f95",
   "metadata": {},
   "outputs": [
    {
     "data": {
      "text/plain": "     Make Colour  Odometer (KM)  Doors       Price\n0  Toyota  White         150043      4   $4,000.00\n1   Honda    Red          87899      4   $5,000.00\n2  Toyota   Blue          32549      3   $7,000.00\n3     BMW  Black          11179      5  $22,000.00\n4  Nissan  White         213095      4   $3,500.00\n5  Toyota  Green          99213      4   $4,500.00\n6   Honda   Blue          45698      4   $7,500.00\n7   Honda   Blue          54738      4   $7,000.00\n8  Toyota  White          60000      4   $6,250.00\n9  Nissan  White          31600      4   $9,700.00",
      "text/html": "<div>\n<style scoped>\n    .dataframe tbody tr th:only-of-type {\n        vertical-align: middle;\n    }\n\n    .dataframe tbody tr th {\n        vertical-align: top;\n    }\n\n    .dataframe thead th {\n        text-align: right;\n    }\n</style>\n<table border=\"1\" class=\"dataframe\">\n  <thead>\n    <tr style=\"text-align: right;\">\n      <th></th>\n      <th>Make</th>\n      <th>Colour</th>\n      <th>Odometer (KM)</th>\n      <th>Doors</th>\n      <th>Price</th>\n    </tr>\n  </thead>\n  <tbody>\n    <tr>\n      <th>0</th>\n      <td>Toyota</td>\n      <td>White</td>\n      <td>150043</td>\n      <td>4</td>\n      <td>$4,000.00</td>\n    </tr>\n    <tr>\n      <th>1</th>\n      <td>Honda</td>\n      <td>Red</td>\n      <td>87899</td>\n      <td>4</td>\n      <td>$5,000.00</td>\n    </tr>\n    <tr>\n      <th>2</th>\n      <td>Toyota</td>\n      <td>Blue</td>\n      <td>32549</td>\n      <td>3</td>\n      <td>$7,000.00</td>\n    </tr>\n    <tr>\n      <th>3</th>\n      <td>BMW</td>\n      <td>Black</td>\n      <td>11179</td>\n      <td>5</td>\n      <td>$22,000.00</td>\n    </tr>\n    <tr>\n      <th>4</th>\n      <td>Nissan</td>\n      <td>White</td>\n      <td>213095</td>\n      <td>4</td>\n      <td>$3,500.00</td>\n    </tr>\n    <tr>\n      <th>5</th>\n      <td>Toyota</td>\n      <td>Green</td>\n      <td>99213</td>\n      <td>4</td>\n      <td>$4,500.00</td>\n    </tr>\n    <tr>\n      <th>6</th>\n      <td>Honda</td>\n      <td>Blue</td>\n      <td>45698</td>\n      <td>4</td>\n      <td>$7,500.00</td>\n    </tr>\n    <tr>\n      <th>7</th>\n      <td>Honda</td>\n      <td>Blue</td>\n      <td>54738</td>\n      <td>4</td>\n      <td>$7,000.00</td>\n    </tr>\n    <tr>\n      <th>8</th>\n      <td>Toyota</td>\n      <td>White</td>\n      <td>60000</td>\n      <td>4</td>\n      <td>$6,250.00</td>\n    </tr>\n    <tr>\n      <th>9</th>\n      <td>Nissan</td>\n      <td>White</td>\n      <td>31600</td>\n      <td>4</td>\n      <td>$9,700.00</td>\n    </tr>\n  </tbody>\n</table>\n</div>"
     },
     "execution_count": 6,
     "metadata": {},
     "output_type": "execute_result"
    }
   ],
   "source": [
    "car_sales # pandas dataframe"
   ]
  },
  {
   "cell_type": "code",
   "execution_count": 7,
   "id": "586b1e0a",
   "metadata": {},
   "outputs": [],
   "source": [
    "# exporting dataframe\n",
    "car_sales.to_csv(\"exported-car-sales.csv\")\n",
    "\n",
    "# or\n",
    "\n",
    "car_sales.to_excel(\"exported-car-sales.xlsx\")"
   ]
  },
  {
   "cell_type": "markdown",
   "id": "29bb6b0f",
   "metadata": {},
   "source": [
    "## Describe Data \n",
    "\n",
    "car_sales.describe()"
   ]
  },
  {
   "cell_type": "code",
   "execution_count": 8,
   "id": "f7c7152e",
   "metadata": {},
   "outputs": [
    {
     "data": {
      "text/plain": "Make             object\nColour           object\nOdometer (KM)     int64\nDoors             int64\nPrice            object\ndtype: object"
     },
     "execution_count": 8,
     "metadata": {},
     "output_type": "execute_result"
    }
   ],
   "source": [
    "# Attribute:\n",
    "car_sales.dtypes\n",
    "\n",
    "# Function:\n",
    "# car_sales.to_csv()"
   ]
  },
  {
   "cell_type": "code",
   "execution_count": 9,
   "id": "0a1ad256",
   "metadata": {},
   "outputs": [
    {
     "data": {
      "text/plain": "Index(['Make', 'Colour', 'Odometer (KM)', 'Doors', 'Price'], dtype='object')"
     },
     "execution_count": 9,
     "metadata": {},
     "output_type": "execute_result"
    }
   ],
   "source": [
    "car_sales.columns"
   ]
  },
  {
   "cell_type": "code",
   "execution_count": 10,
   "id": "98e5d94f",
   "metadata": {},
   "outputs": [
    {
     "data": {
      "text/plain": "Index(['Make', 'Colour', 'Odometer (KM)', 'Doors', 'Price'], dtype='object')"
     },
     "execution_count": 10,
     "metadata": {},
     "output_type": "execute_result"
    }
   ],
   "source": [
    "# storing column names as a list:\n",
    "car_columns = car_sales.columns\n",
    "car_columns"
   ]
  },
  {
   "cell_type": "code",
   "execution_count": 11,
   "id": "15434d66",
   "metadata": {},
   "outputs": [
    {
     "data": {
      "text/plain": "RangeIndex(start=0, stop=10, step=1)"
     },
     "execution_count": 11,
     "metadata": {},
     "output_type": "execute_result"
    }
   ],
   "source": [
    "# indexes:\n",
    "car_sales.index"
   ]
  },
  {
   "cell_type": "code",
   "execution_count": 12,
   "id": "4c927a0b",
   "metadata": {},
   "outputs": [
    {
     "name": "stdout",
     "output_type": "stream",
     "text": [
      "<class 'pandas.core.frame.DataFrame'>\n",
      "RangeIndex: 10 entries, 0 to 9\n",
      "Data columns (total 5 columns):\n",
      " #   Column         Non-Null Count  Dtype \n",
      "---  ------         --------------  ----- \n",
      " 0   Make           10 non-null     object\n",
      " 1   Colour         10 non-null     object\n",
      " 2   Odometer (KM)  10 non-null     int64 \n",
      " 3   Doors          10 non-null     int64 \n",
      " 4   Price          10 non-null     object\n",
      "dtypes: int64(2), object(3)\n",
      "memory usage: 528.0+ bytes\n"
     ]
    }
   ],
   "source": [
    "# describe only works on numeric values: int\n",
    "\n",
    "car_sales.info()"
   ]
  },
  {
   "cell_type": "code",
   "execution_count": 13,
   "id": "b453448e",
   "metadata": {},
   "outputs": [],
   "source": [
    "# car_sales.mean()"
   ]
  },
  {
   "cell_type": "code",
   "execution_count": 14,
   "id": "8a1a9edd",
   "metadata": {},
   "outputs": [
    {
     "data": {
      "text/plain": "38583.333333333336"
     },
     "execution_count": 14,
     "metadata": {},
     "output_type": "execute_result"
    }
   ],
   "source": [
    "# new series\n",
    "car_prices = pd.Series([3000, 1500, 111250])\n",
    "car_prices.mean()"
   ]
  },
  {
   "cell_type": "code",
   "execution_count": 15,
   "id": "1a189528",
   "metadata": {},
   "outputs": [
    {
     "data": {
      "text/plain": "Make             ToyotaHondaToyotaBMWNissanToyotaHondaHondaToyo...\nColour               WhiteRedBlueBlackWhiteGreenBlueBlueWhiteWhite\nOdometer (KM)                                               786014\nDoors                                                           40\nPrice            $4,000.00$5,000.00$7,000.00$22,000.00$3,500.00...\ndtype: object"
     },
     "execution_count": 15,
     "metadata": {},
     "output_type": "execute_result"
    }
   ],
   "source": [
    "car_sales.sum()"
   ]
  },
  {
   "cell_type": "code",
   "execution_count": 16,
   "id": "7d04962f",
   "metadata": {},
   "outputs": [
    {
     "data": {
      "text/plain": "40"
     },
     "execution_count": 16,
     "metadata": {},
     "output_type": "execute_result"
    }
   ],
   "source": [
    "# selecting a single col:\n",
    "car_sales[\"Doors\"].sum()"
   ]
  },
  {
   "cell_type": "code",
   "execution_count": 17,
   "id": "14794c87",
   "metadata": {},
   "outputs": [
    {
     "data": {
      "text/plain": "10"
     },
     "execution_count": 17,
     "metadata": {},
     "output_type": "execute_result"
    }
   ],
   "source": [
    "len(car_sales)"
   ]
  },
  {
   "cell_type": "markdown",
   "id": "41390c62",
   "metadata": {},
   "source": [
    "## Viewing and Selecting Data:"
   ]
  },
  {
   "cell_type": "code",
   "execution_count": 18,
   "id": "95f12b2b",
   "metadata": {},
   "outputs": [
    {
     "data": {
      "text/plain": "     Make Colour  Odometer (KM)  Doors       Price\n0  Toyota  White         150043      4   $4,000.00\n1   Honda    Red          87899      4   $5,000.00\n2  Toyota   Blue          32549      3   $7,000.00\n3     BMW  Black          11179      5  $22,000.00\n4  Nissan  White         213095      4   $3,500.00",
      "text/html": "<div>\n<style scoped>\n    .dataframe tbody tr th:only-of-type {\n        vertical-align: middle;\n    }\n\n    .dataframe tbody tr th {\n        vertical-align: top;\n    }\n\n    .dataframe thead th {\n        text-align: right;\n    }\n</style>\n<table border=\"1\" class=\"dataframe\">\n  <thead>\n    <tr style=\"text-align: right;\">\n      <th></th>\n      <th>Make</th>\n      <th>Colour</th>\n      <th>Odometer (KM)</th>\n      <th>Doors</th>\n      <th>Price</th>\n    </tr>\n  </thead>\n  <tbody>\n    <tr>\n      <th>0</th>\n      <td>Toyota</td>\n      <td>White</td>\n      <td>150043</td>\n      <td>4</td>\n      <td>$4,000.00</td>\n    </tr>\n    <tr>\n      <th>1</th>\n      <td>Honda</td>\n      <td>Red</td>\n      <td>87899</td>\n      <td>4</td>\n      <td>$5,000.00</td>\n    </tr>\n    <tr>\n      <th>2</th>\n      <td>Toyota</td>\n      <td>Blue</td>\n      <td>32549</td>\n      <td>3</td>\n      <td>$7,000.00</td>\n    </tr>\n    <tr>\n      <th>3</th>\n      <td>BMW</td>\n      <td>Black</td>\n      <td>11179</td>\n      <td>5</td>\n      <td>$22,000.00</td>\n    </tr>\n    <tr>\n      <th>4</th>\n      <td>Nissan</td>\n      <td>White</td>\n      <td>213095</td>\n      <td>4</td>\n      <td>$3,500.00</td>\n    </tr>\n  </tbody>\n</table>\n</div>"
     },
     "execution_count": 18,
     "metadata": {},
     "output_type": "execute_result"
    }
   ],
   "source": [
    "car_sales.head()\n",
    "\n",
    "# returns top-5 rows in our dataframe"
   ]
  },
  {
   "cell_type": "code",
   "execution_count": 19,
   "id": "0bf6c229",
   "metadata": {},
   "outputs": [
    {
     "data": {
      "text/plain": "     Make Colour  Odometer (KM)  Doors       Price\n0  Toyota  White         150043      4   $4,000.00\n1   Honda    Red          87899      4   $5,000.00\n2  Toyota   Blue          32549      3   $7,000.00\n3     BMW  Black          11179      5  $22,000.00\n4  Nissan  White         213095      4   $3,500.00\n5  Toyota  Green          99213      4   $4,500.00\n6   Honda   Blue          45698      4   $7,500.00",
      "text/html": "<div>\n<style scoped>\n    .dataframe tbody tr th:only-of-type {\n        vertical-align: middle;\n    }\n\n    .dataframe tbody tr th {\n        vertical-align: top;\n    }\n\n    .dataframe thead th {\n        text-align: right;\n    }\n</style>\n<table border=\"1\" class=\"dataframe\">\n  <thead>\n    <tr style=\"text-align: right;\">\n      <th></th>\n      <th>Make</th>\n      <th>Colour</th>\n      <th>Odometer (KM)</th>\n      <th>Doors</th>\n      <th>Price</th>\n    </tr>\n  </thead>\n  <tbody>\n    <tr>\n      <th>0</th>\n      <td>Toyota</td>\n      <td>White</td>\n      <td>150043</td>\n      <td>4</td>\n      <td>$4,000.00</td>\n    </tr>\n    <tr>\n      <th>1</th>\n      <td>Honda</td>\n      <td>Red</td>\n      <td>87899</td>\n      <td>4</td>\n      <td>$5,000.00</td>\n    </tr>\n    <tr>\n      <th>2</th>\n      <td>Toyota</td>\n      <td>Blue</td>\n      <td>32549</td>\n      <td>3</td>\n      <td>$7,000.00</td>\n    </tr>\n    <tr>\n      <th>3</th>\n      <td>BMW</td>\n      <td>Black</td>\n      <td>11179</td>\n      <td>5</td>\n      <td>$22,000.00</td>\n    </tr>\n    <tr>\n      <th>4</th>\n      <td>Nissan</td>\n      <td>White</td>\n      <td>213095</td>\n      <td>4</td>\n      <td>$3,500.00</td>\n    </tr>\n    <tr>\n      <th>5</th>\n      <td>Toyota</td>\n      <td>Green</td>\n      <td>99213</td>\n      <td>4</td>\n      <td>$4,500.00</td>\n    </tr>\n    <tr>\n      <th>6</th>\n      <td>Honda</td>\n      <td>Blue</td>\n      <td>45698</td>\n      <td>4</td>\n      <td>$7,500.00</td>\n    </tr>\n  </tbody>\n</table>\n</div>"
     },
     "execution_count": 19,
     "metadata": {},
     "output_type": "execute_result"
    }
   ],
   "source": [
    "car_sales.head(7)"
   ]
  },
  {
   "cell_type": "code",
   "execution_count": 20,
   "id": "aaa2c9f2",
   "metadata": {},
   "outputs": [
    {
     "data": {
      "text/plain": "     Make Colour  Odometer (KM)  Doors      Price\n7   Honda   Blue          54738      4  $7,000.00\n8  Toyota  White          60000      4  $6,250.00\n9  Nissan  White          31600      4  $9,700.00",
      "text/html": "<div>\n<style scoped>\n    .dataframe tbody tr th:only-of-type {\n        vertical-align: middle;\n    }\n\n    .dataframe tbody tr th {\n        vertical-align: top;\n    }\n\n    .dataframe thead th {\n        text-align: right;\n    }\n</style>\n<table border=\"1\" class=\"dataframe\">\n  <thead>\n    <tr style=\"text-align: right;\">\n      <th></th>\n      <th>Make</th>\n      <th>Colour</th>\n      <th>Odometer (KM)</th>\n      <th>Doors</th>\n      <th>Price</th>\n    </tr>\n  </thead>\n  <tbody>\n    <tr>\n      <th>7</th>\n      <td>Honda</td>\n      <td>Blue</td>\n      <td>54738</td>\n      <td>4</td>\n      <td>$7,000.00</td>\n    </tr>\n    <tr>\n      <th>8</th>\n      <td>Toyota</td>\n      <td>White</td>\n      <td>60000</td>\n      <td>4</td>\n      <td>$6,250.00</td>\n    </tr>\n    <tr>\n      <th>9</th>\n      <td>Nissan</td>\n      <td>White</td>\n      <td>31600</td>\n      <td>4</td>\n      <td>$9,700.00</td>\n    </tr>\n  </tbody>\n</table>\n</div>"
     },
     "execution_count": 20,
     "metadata": {},
     "output_type": "execute_result"
    }
   ],
   "source": [
    "car_sales.tail(3)"
   ]
  },
  {
   "cell_type": "code",
   "execution_count": 21,
   "id": "5c14d8ca",
   "metadata": {},
   "outputs": [
    {
     "data": {
      "text/plain": "0       cat\n3       dog\n9     snake\n8    pandas\n3     birds\ndtype: object"
     },
     "execution_count": 21,
     "metadata": {},
     "output_type": "execute_result"
    }
   ],
   "source": [
    "# .loc and .iloc:\n",
    "animals = pd.Series([\"cat\", \"dog\", \"snake\", \"pandas\", \"birds\"], index=[0, 3, 9, 8, 3])\n",
    "\n",
    "animals"
   ]
  },
  {
   "cell_type": "code",
   "execution_count": 22,
   "id": "38776998",
   "metadata": {},
   "outputs": [
    {
     "data": {
      "text/plain": "3      dog\n3    birds\ndtype: object"
     },
     "execution_count": 22,
     "metadata": {},
     "output_type": "execute_result"
    }
   ],
   "source": [
    "animals.loc[3]\n",
    "\n",
    "# loc(LOCATION) refers to index/ location in our df"
   ]
  },
  {
   "cell_type": "code",
   "execution_count": 23,
   "id": "6df7a30d",
   "metadata": {},
   "outputs": [
    {
     "data": {
      "text/plain": "Make                    BMW\nColour                Black\nOdometer (KM)         11179\nDoors                     5\nPrice            $22,000.00\nName: 3, dtype: object"
     },
     "execution_count": 23,
     "metadata": {},
     "output_type": "execute_result"
    }
   ],
   "source": [
    "car_sales.loc[3]"
   ]
  },
  {
   "cell_type": "code",
   "execution_count": 24,
   "id": "5cfbeb53",
   "metadata": {},
   "outputs": [
    {
     "data": {
      "text/plain": "'pandas'"
     },
     "execution_count": 24,
     "metadata": {},
     "output_type": "execute_result"
    }
   ],
   "source": [
    "# iloc: refers to position \n",
    "animals.iloc[3]"
   ]
  },
  {
   "cell_type": "code",
   "execution_count": 25,
   "id": "f4b5a23a",
   "metadata": {},
   "outputs": [
    {
     "data": {
      "text/plain": "Make                    BMW\nColour                Black\nOdometer (KM)         11179\nDoors                     5\nPrice            $22,000.00\nName: 3, dtype: object"
     },
     "execution_count": 25,
     "metadata": {},
     "output_type": "execute_result"
    }
   ],
   "source": [
    "car_sales.iloc[3]"
   ]
  },
  {
   "cell_type": "code",
   "execution_count": 26,
   "id": "accbd38c",
   "metadata": {},
   "outputs": [
    {
     "data": {
      "text/plain": "0      cat\n3      dog\n9    snake\ndtype: object"
     },
     "execution_count": 26,
     "metadata": {},
     "output_type": "execute_result"
    }
   ],
   "source": [
    "# .loc and .iloc can be used for slicing our data:\n",
    "\n",
    "animals.iloc[:3]"
   ]
  },
  {
   "cell_type": "code",
   "execution_count": 27,
   "id": "9ae314c6",
   "metadata": {},
   "outputs": [
    {
     "ename": "KeyError",
     "evalue": "'Cannot get right slice bound for non-unique label: 3'",
     "output_type": "error",
     "traceback": [
      "\u001B[0;31m---------------------------------------------------------------------------\u001B[0m",
      "\u001B[0;31mKeyError\u001B[0m                                  Traceback (most recent call last)",
      "Input \u001B[0;32mIn [27]\u001B[0m, in \u001B[0;36m<cell line: 1>\u001B[0;34m()\u001B[0m\n\u001B[0;32m----> 1\u001B[0m \u001B[43manimals\u001B[49m\u001B[38;5;241;43m.\u001B[39;49m\u001B[43mloc\u001B[49m\u001B[43m[\u001B[49m\u001B[43m:\u001B[49m\u001B[38;5;241;43m3\u001B[39;49m\u001B[43m]\u001B[49m\n",
      "File \u001B[0;32m/opt/anaconda3/lib/python3.9/site-packages/pandas/core/indexing.py:967\u001B[0m, in \u001B[0;36m_LocationIndexer.__getitem__\u001B[0;34m(self, key)\u001B[0m\n\u001B[1;32m    964\u001B[0m axis \u001B[38;5;241m=\u001B[39m \u001B[38;5;28mself\u001B[39m\u001B[38;5;241m.\u001B[39maxis \u001B[38;5;129;01mor\u001B[39;00m \u001B[38;5;241m0\u001B[39m\n\u001B[1;32m    966\u001B[0m maybe_callable \u001B[38;5;241m=\u001B[39m com\u001B[38;5;241m.\u001B[39mapply_if_callable(key, \u001B[38;5;28mself\u001B[39m\u001B[38;5;241m.\u001B[39mobj)\n\u001B[0;32m--> 967\u001B[0m \u001B[38;5;28;01mreturn\u001B[39;00m \u001B[38;5;28;43mself\u001B[39;49m\u001B[38;5;241;43m.\u001B[39;49m\u001B[43m_getitem_axis\u001B[49m\u001B[43m(\u001B[49m\u001B[43mmaybe_callable\u001B[49m\u001B[43m,\u001B[49m\u001B[43m \u001B[49m\u001B[43maxis\u001B[49m\u001B[38;5;241;43m=\u001B[39;49m\u001B[43maxis\u001B[49m\u001B[43m)\u001B[49m\n",
      "File \u001B[0;32m/opt/anaconda3/lib/python3.9/site-packages/pandas/core/indexing.py:1180\u001B[0m, in \u001B[0;36m_LocIndexer._getitem_axis\u001B[0;34m(self, key, axis)\u001B[0m\n\u001B[1;32m   1178\u001B[0m \u001B[38;5;28;01mif\u001B[39;00m \u001B[38;5;28misinstance\u001B[39m(key, \u001B[38;5;28mslice\u001B[39m):\n\u001B[1;32m   1179\u001B[0m     \u001B[38;5;28mself\u001B[39m\u001B[38;5;241m.\u001B[39m_validate_key(key, axis)\n\u001B[0;32m-> 1180\u001B[0m     \u001B[38;5;28;01mreturn\u001B[39;00m \u001B[38;5;28;43mself\u001B[39;49m\u001B[38;5;241;43m.\u001B[39;49m\u001B[43m_get_slice_axis\u001B[49m\u001B[43m(\u001B[49m\u001B[43mkey\u001B[49m\u001B[43m,\u001B[49m\u001B[43m \u001B[49m\u001B[43maxis\u001B[49m\u001B[38;5;241;43m=\u001B[39;49m\u001B[43maxis\u001B[49m\u001B[43m)\u001B[49m\n\u001B[1;32m   1181\u001B[0m \u001B[38;5;28;01melif\u001B[39;00m com\u001B[38;5;241m.\u001B[39mis_bool_indexer(key):\n\u001B[1;32m   1182\u001B[0m     \u001B[38;5;28;01mreturn\u001B[39;00m \u001B[38;5;28mself\u001B[39m\u001B[38;5;241m.\u001B[39m_getbool_axis(key, axis\u001B[38;5;241m=\u001B[39maxis)\n",
      "File \u001B[0;32m/opt/anaconda3/lib/python3.9/site-packages/pandas/core/indexing.py:1214\u001B[0m, in \u001B[0;36m_LocIndexer._get_slice_axis\u001B[0;34m(self, slice_obj, axis)\u001B[0m\n\u001B[1;32m   1211\u001B[0m     \u001B[38;5;28;01mreturn\u001B[39;00m obj\u001B[38;5;241m.\u001B[39mcopy(deep\u001B[38;5;241m=\u001B[39m\u001B[38;5;28;01mFalse\u001B[39;00m)\n\u001B[1;32m   1213\u001B[0m labels \u001B[38;5;241m=\u001B[39m obj\u001B[38;5;241m.\u001B[39m_get_axis(axis)\n\u001B[0;32m-> 1214\u001B[0m indexer \u001B[38;5;241m=\u001B[39m \u001B[43mlabels\u001B[49m\u001B[38;5;241;43m.\u001B[39;49m\u001B[43mslice_indexer\u001B[49m\u001B[43m(\u001B[49m\u001B[43mslice_obj\u001B[49m\u001B[38;5;241;43m.\u001B[39;49m\u001B[43mstart\u001B[49m\u001B[43m,\u001B[49m\u001B[43m \u001B[49m\u001B[43mslice_obj\u001B[49m\u001B[38;5;241;43m.\u001B[39;49m\u001B[43mstop\u001B[49m\u001B[43m,\u001B[49m\u001B[43m \u001B[49m\u001B[43mslice_obj\u001B[49m\u001B[38;5;241;43m.\u001B[39;49m\u001B[43mstep\u001B[49m\u001B[43m)\u001B[49m\n\u001B[1;32m   1216\u001B[0m \u001B[38;5;28;01mif\u001B[39;00m \u001B[38;5;28misinstance\u001B[39m(indexer, \u001B[38;5;28mslice\u001B[39m):\n\u001B[1;32m   1217\u001B[0m     \u001B[38;5;28;01mreturn\u001B[39;00m \u001B[38;5;28mself\u001B[39m\u001B[38;5;241m.\u001B[39mobj\u001B[38;5;241m.\u001B[39m_slice(indexer, axis\u001B[38;5;241m=\u001B[39maxis)\n",
      "File \u001B[0;32m/opt/anaconda3/lib/python3.9/site-packages/pandas/core/indexes/base.py:6274\u001B[0m, in \u001B[0;36mIndex.slice_indexer\u001B[0;34m(self, start, end, step, kind)\u001B[0m\n\u001B[1;32m   6231\u001B[0m \u001B[38;5;124;03m\"\"\"\u001B[39;00m\n\u001B[1;32m   6232\u001B[0m \u001B[38;5;124;03mCompute the slice indexer for input labels and step.\u001B[39;00m\n\u001B[1;32m   6233\u001B[0m \n\u001B[0;32m   (...)\u001B[0m\n\u001B[1;32m   6270\u001B[0m \u001B[38;5;124;03mslice(1, 3, None)\u001B[39;00m\n\u001B[1;32m   6271\u001B[0m \u001B[38;5;124;03m\"\"\"\u001B[39;00m\n\u001B[1;32m   6272\u001B[0m \u001B[38;5;28mself\u001B[39m\u001B[38;5;241m.\u001B[39m_deprecated_arg(kind, \u001B[38;5;124m\"\u001B[39m\u001B[38;5;124mkind\u001B[39m\u001B[38;5;124m\"\u001B[39m, \u001B[38;5;124m\"\u001B[39m\u001B[38;5;124mslice_indexer\u001B[39m\u001B[38;5;124m\"\u001B[39m)\n\u001B[0;32m-> 6274\u001B[0m start_slice, end_slice \u001B[38;5;241m=\u001B[39m \u001B[38;5;28;43mself\u001B[39;49m\u001B[38;5;241;43m.\u001B[39;49m\u001B[43mslice_locs\u001B[49m\u001B[43m(\u001B[49m\u001B[43mstart\u001B[49m\u001B[43m,\u001B[49m\u001B[43m \u001B[49m\u001B[43mend\u001B[49m\u001B[43m,\u001B[49m\u001B[43m \u001B[49m\u001B[43mstep\u001B[49m\u001B[38;5;241;43m=\u001B[39;49m\u001B[43mstep\u001B[49m\u001B[43m)\u001B[49m\n\u001B[1;32m   6276\u001B[0m \u001B[38;5;66;03m# return a slice\u001B[39;00m\n\u001B[1;32m   6277\u001B[0m \u001B[38;5;28;01mif\u001B[39;00m \u001B[38;5;129;01mnot\u001B[39;00m is_scalar(start_slice):\n",
      "File \u001B[0;32m/opt/anaconda3/lib/python3.9/site-packages/pandas/core/indexes/base.py:6490\u001B[0m, in \u001B[0;36mIndex.slice_locs\u001B[0;34m(self, start, end, step, kind)\u001B[0m\n\u001B[1;32m   6488\u001B[0m end_slice \u001B[38;5;241m=\u001B[39m \u001B[38;5;28;01mNone\u001B[39;00m\n\u001B[1;32m   6489\u001B[0m \u001B[38;5;28;01mif\u001B[39;00m end \u001B[38;5;129;01mis\u001B[39;00m \u001B[38;5;129;01mnot\u001B[39;00m \u001B[38;5;28;01mNone\u001B[39;00m:\n\u001B[0;32m-> 6490\u001B[0m     end_slice \u001B[38;5;241m=\u001B[39m \u001B[38;5;28;43mself\u001B[39;49m\u001B[38;5;241;43m.\u001B[39;49m\u001B[43mget_slice_bound\u001B[49m\u001B[43m(\u001B[49m\u001B[43mend\u001B[49m\u001B[43m,\u001B[49m\u001B[43m \u001B[49m\u001B[38;5;124;43m\"\u001B[39;49m\u001B[38;5;124;43mright\u001B[39;49m\u001B[38;5;124;43m\"\u001B[39;49m\u001B[43m)\u001B[49m\n\u001B[1;32m   6491\u001B[0m \u001B[38;5;28;01mif\u001B[39;00m end_slice \u001B[38;5;129;01mis\u001B[39;00m \u001B[38;5;28;01mNone\u001B[39;00m:\n\u001B[1;32m   6492\u001B[0m     end_slice \u001B[38;5;241m=\u001B[39m \u001B[38;5;28mlen\u001B[39m(\u001B[38;5;28mself\u001B[39m)\n",
      "File \u001B[0;32m/opt/anaconda3/lib/python3.9/site-packages/pandas/core/indexes/base.py:6411\u001B[0m, in \u001B[0;36mIndex.get_slice_bound\u001B[0;34m(self, label, side, kind)\u001B[0m\n\u001B[1;32m   6409\u001B[0m     slc \u001B[38;5;241m=\u001B[39m lib\u001B[38;5;241m.\u001B[39mmaybe_booleans_to_slice(slc\u001B[38;5;241m.\u001B[39mview(\u001B[38;5;124m\"\u001B[39m\u001B[38;5;124mu1\u001B[39m\u001B[38;5;124m\"\u001B[39m))\n\u001B[1;32m   6410\u001B[0m     \u001B[38;5;28;01mif\u001B[39;00m \u001B[38;5;28misinstance\u001B[39m(slc, np\u001B[38;5;241m.\u001B[39mndarray):\n\u001B[0;32m-> 6411\u001B[0m         \u001B[38;5;28;01mraise\u001B[39;00m \u001B[38;5;167;01mKeyError\u001B[39;00m(\n\u001B[1;32m   6412\u001B[0m             \u001B[38;5;124mf\u001B[39m\u001B[38;5;124m\"\u001B[39m\u001B[38;5;124mCannot get \u001B[39m\u001B[38;5;132;01m{\u001B[39;00mside\u001B[38;5;132;01m}\u001B[39;00m\u001B[38;5;124m slice bound for non-unique \u001B[39m\u001B[38;5;124m\"\u001B[39m\n\u001B[1;32m   6413\u001B[0m             \u001B[38;5;124mf\u001B[39m\u001B[38;5;124m\"\u001B[39m\u001B[38;5;124mlabel: \u001B[39m\u001B[38;5;132;01m{\u001B[39;00m\u001B[38;5;28mrepr\u001B[39m(original_label)\u001B[38;5;132;01m}\u001B[39;00m\u001B[38;5;124m\"\u001B[39m\n\u001B[1;32m   6414\u001B[0m         )\n\u001B[1;32m   6416\u001B[0m \u001B[38;5;28;01mif\u001B[39;00m \u001B[38;5;28misinstance\u001B[39m(slc, \u001B[38;5;28mslice\u001B[39m):\n\u001B[1;32m   6417\u001B[0m     \u001B[38;5;28;01mif\u001B[39;00m side \u001B[38;5;241m==\u001B[39m \u001B[38;5;124m\"\u001B[39m\u001B[38;5;124mleft\u001B[39m\u001B[38;5;124m\"\u001B[39m:\n",
      "\u001B[0;31mKeyError\u001B[0m: 'Cannot get right slice bound for non-unique label: 3'"
     ]
    }
   ],
   "source": [
    "animals.loc[:3]"
   ]
  },
  {
   "cell_type": "code",
   "execution_count": 32,
   "id": "117796c2",
   "metadata": {},
   "outputs": [
    {
     "data": {
      "text/plain": "     Make Colour  Odometer (KM)  Doors       Price\n0  Toyota  White         150043      4   $4,000.00\n1   Honda    Red          87899      4   $5,000.00\n2  Toyota   Blue          32549      3   $7,000.00\n3     BMW  Black          11179      5  $22,000.00",
      "text/html": "<div>\n<style scoped>\n    .dataframe tbody tr th:only-of-type {\n        vertical-align: middle;\n    }\n\n    .dataframe tbody tr th {\n        vertical-align: top;\n    }\n\n    .dataframe thead th {\n        text-align: right;\n    }\n</style>\n<table border=\"1\" class=\"dataframe\">\n  <thead>\n    <tr style=\"text-align: right;\">\n      <th></th>\n      <th>Make</th>\n      <th>Colour</th>\n      <th>Odometer (KM)</th>\n      <th>Doors</th>\n      <th>Price</th>\n    </tr>\n  </thead>\n  <tbody>\n    <tr>\n      <th>0</th>\n      <td>Toyota</td>\n      <td>White</td>\n      <td>150043</td>\n      <td>4</td>\n      <td>$4,000.00</td>\n    </tr>\n    <tr>\n      <th>1</th>\n      <td>Honda</td>\n      <td>Red</td>\n      <td>87899</td>\n      <td>4</td>\n      <td>$5,000.00</td>\n    </tr>\n    <tr>\n      <th>2</th>\n      <td>Toyota</td>\n      <td>Blue</td>\n      <td>32549</td>\n      <td>3</td>\n      <td>$7,000.00</td>\n    </tr>\n    <tr>\n      <th>3</th>\n      <td>BMW</td>\n      <td>Black</td>\n      <td>11179</td>\n      <td>5</td>\n      <td>$22,000.00</td>\n    </tr>\n  </tbody>\n</table>\n</div>"
     },
     "execution_count": 32,
     "metadata": {},
     "output_type": "execute_result"
    }
   ],
   "source": [
    "car_sales.loc[:3]"
   ]
  },
  {
   "cell_type": "code",
   "execution_count": 33,
   "id": "d1698c58",
   "metadata": {},
   "outputs": [
    {
     "data": {
      "text/plain": "0    White\n1      Red\n2     Blue\n3    Black\n4    White\n5    Green\n6     Blue\n7     Blue\n8    White\n9    White\nName: Colour, dtype: object"
     },
     "execution_count": 33,
     "metadata": {},
     "output_type": "execute_result"
    }
   ],
   "source": [
    "car_sales[\"Colour\"]"
   ]
  },
  {
   "cell_type": "code",
   "execution_count": 34,
   "id": "9ca012e6",
   "metadata": {},
   "outputs": [
    {
     "data": {
      "text/plain": "     Make Colour  Odometer (KM)  Doors      Price\n0  Toyota  White         150043      4  $4,000.00\n2  Toyota   Blue          32549      3  $7,000.00\n5  Toyota  Green          99213      4  $4,500.00\n8  Toyota  White          60000      4  $6,250.00",
      "text/html": "<div>\n<style scoped>\n    .dataframe tbody tr th:only-of-type {\n        vertical-align: middle;\n    }\n\n    .dataframe tbody tr th {\n        vertical-align: top;\n    }\n\n    .dataframe thead th {\n        text-align: right;\n    }\n</style>\n<table border=\"1\" class=\"dataframe\">\n  <thead>\n    <tr style=\"text-align: right;\">\n      <th></th>\n      <th>Make</th>\n      <th>Colour</th>\n      <th>Odometer (KM)</th>\n      <th>Doors</th>\n      <th>Price</th>\n    </tr>\n  </thead>\n  <tbody>\n    <tr>\n      <th>0</th>\n      <td>Toyota</td>\n      <td>White</td>\n      <td>150043</td>\n      <td>4</td>\n      <td>$4,000.00</td>\n    </tr>\n    <tr>\n      <th>2</th>\n      <td>Toyota</td>\n      <td>Blue</td>\n      <td>32549</td>\n      <td>3</td>\n      <td>$7,000.00</td>\n    </tr>\n    <tr>\n      <th>5</th>\n      <td>Toyota</td>\n      <td>Green</td>\n      <td>99213</td>\n      <td>4</td>\n      <td>$4,500.00</td>\n    </tr>\n    <tr>\n      <th>8</th>\n      <td>Toyota</td>\n      <td>White</td>\n      <td>60000</td>\n      <td>4</td>\n      <td>$6,250.00</td>\n    </tr>\n  </tbody>\n</table>\n</div>"
     },
     "execution_count": 34,
     "metadata": {},
     "output_type": "execute_result"
    }
   ],
   "source": [
    "car_sales[car_sales[\"Make\"]==\"Toyota\"]"
   ]
  },
  {
   "cell_type": "code",
   "execution_count": 35,
   "id": "7c698cbf",
   "metadata": {},
   "outputs": [
    {
     "data": {
      "text/plain": "     Make Colour  Odometer (KM)  Doors      Price\n0  Toyota  White         150043      4  $4,000.00\n4  Nissan  White         213095      4  $3,500.00",
      "text/html": "<div>\n<style scoped>\n    .dataframe tbody tr th:only-of-type {\n        vertical-align: middle;\n    }\n\n    .dataframe tbody tr th {\n        vertical-align: top;\n    }\n\n    .dataframe thead th {\n        text-align: right;\n    }\n</style>\n<table border=\"1\" class=\"dataframe\">\n  <thead>\n    <tr style=\"text-align: right;\">\n      <th></th>\n      <th>Make</th>\n      <th>Colour</th>\n      <th>Odometer (KM)</th>\n      <th>Doors</th>\n      <th>Price</th>\n    </tr>\n  </thead>\n  <tbody>\n    <tr>\n      <th>0</th>\n      <td>Toyota</td>\n      <td>White</td>\n      <td>150043</td>\n      <td>4</td>\n      <td>$4,000.00</td>\n    </tr>\n    <tr>\n      <th>4</th>\n      <td>Nissan</td>\n      <td>White</td>\n      <td>213095</td>\n      <td>4</td>\n      <td>$3,500.00</td>\n    </tr>\n  </tbody>\n</table>\n</div>"
     },
     "execution_count": 35,
     "metadata": {},
     "output_type": "execute_result"
    }
   ],
   "source": [
    "car_sales[car_sales[\"Odometer (KM)\"] > 100000]"
   ]
  },
  {
   "cell_type": "code",
   "execution_count": 36,
   "id": "81e70674",
   "metadata": {},
   "outputs": [
    {
     "data": {
      "text/plain": "Doors   3  4  5\nMake           \nBMW     0  0  1\nHonda   0  3  0\nNissan  0  2  0\nToyota  1  3  0",
      "text/html": "<div>\n<style scoped>\n    .dataframe tbody tr th:only-of-type {\n        vertical-align: middle;\n    }\n\n    .dataframe tbody tr th {\n        vertical-align: top;\n    }\n\n    .dataframe thead th {\n        text-align: right;\n    }\n</style>\n<table border=\"1\" class=\"dataframe\">\n  <thead>\n    <tr style=\"text-align: right;\">\n      <th>Doors</th>\n      <th>3</th>\n      <th>4</th>\n      <th>5</th>\n    </tr>\n    <tr>\n      <th>Make</th>\n      <th></th>\n      <th></th>\n      <th></th>\n    </tr>\n  </thead>\n  <tbody>\n    <tr>\n      <th>BMW</th>\n      <td>0</td>\n      <td>0</td>\n      <td>1</td>\n    </tr>\n    <tr>\n      <th>Honda</th>\n      <td>0</td>\n      <td>3</td>\n      <td>0</td>\n    </tr>\n    <tr>\n      <th>Nissan</th>\n      <td>0</td>\n      <td>2</td>\n      <td>0</td>\n    </tr>\n    <tr>\n      <th>Toyota</th>\n      <td>1</td>\n      <td>3</td>\n      <td>0</td>\n    </tr>\n  </tbody>\n</table>\n</div>"
     },
     "execution_count": 36,
     "metadata": {},
     "output_type": "execute_result"
    }
   ],
   "source": [
    "# comparing two columns in dataframe\n",
    "pd.crosstab(car_sales[\"Make\"], car_sales[\"Doors\"])"
   ]
  },
  {
   "cell_type": "code",
   "execution_count": 37,
   "id": "134f4a54",
   "metadata": {},
   "outputs": [
    {
     "data": {
      "text/plain": "        Odometer (KM)  Doors\nMake                        \nBMW      11179.000000   5.00\nHonda    62778.333333   4.00\nNissan  122347.500000   4.00\nToyota   85451.250000   3.75",
      "text/html": "<div>\n<style scoped>\n    .dataframe tbody tr th:only-of-type {\n        vertical-align: middle;\n    }\n\n    .dataframe tbody tr th {\n        vertical-align: top;\n    }\n\n    .dataframe thead th {\n        text-align: right;\n    }\n</style>\n<table border=\"1\" class=\"dataframe\">\n  <thead>\n    <tr style=\"text-align: right;\">\n      <th></th>\n      <th>Odometer (KM)</th>\n      <th>Doors</th>\n    </tr>\n    <tr>\n      <th>Make</th>\n      <th></th>\n      <th></th>\n    </tr>\n  </thead>\n  <tbody>\n    <tr>\n      <th>BMW</th>\n      <td>11179.000000</td>\n      <td>5.00</td>\n    </tr>\n    <tr>\n      <th>Honda</th>\n      <td>62778.333333</td>\n      <td>4.00</td>\n    </tr>\n    <tr>\n      <th>Nissan</th>\n      <td>122347.500000</td>\n      <td>4.00</td>\n    </tr>\n    <tr>\n      <th>Toyota</th>\n      <td>85451.250000</td>\n      <td>3.75</td>\n    </tr>\n  </tbody>\n</table>\n</div>"
     },
     "execution_count": 37,
     "metadata": {},
     "output_type": "execute_result"
    }
   ],
   "source": [
    "# Groupby:\n",
    "\n",
    "car_sales.groupby([\"Make\"]).mean()"
   ]
  },
  {
   "cell_type": "code",
   "execution_count": 38,
   "id": "222c06b6",
   "metadata": {},
   "outputs": [
    {
     "data": {
      "text/plain": "<AxesSubplot:>"
     },
     "execution_count": 38,
     "metadata": {},
     "output_type": "execute_result"
    },
    {
     "data": {
      "text/plain": "<Figure size 432x288 with 1 Axes>",
      "image/png": "[encoded data removed]"
     },
     "metadata": {
      "needs_background": "light"
     },
     "output_type": "display_data"
    }
   ],
   "source": [
    "car_sales[\"Odometer (KM)\"].plot()"
   ]
  },
  {
   "cell_type": "code",
   "execution_count": 39,
   "id": "59753743",
   "metadata": {},
   "outputs": [
    {
     "data": {
      "text/plain": "<AxesSubplot:>"
     },
     "execution_count": 39,
     "metadata": {},
     "output_type": "execute_result"
    },
    {
     "data": {
      "text/plain": "<Figure size 432x288 with 1 Axes>",
      "image/png": "[encoded data removed]"
     },
     "metadata": {
      "needs_background": "light"
     },
     "output_type": "display_data"
    }
   ],
   "source": [
    "car_sales[\"Odometer (KM)\"].hist()"
   ]
  },
  {
   "cell_type": "code",
   "execution_count": 40,
   "id": "26b849fa",
   "metadata": {},
   "outputs": [
    {
     "ename": "TypeError",
     "evalue": "no numeric data to plot",
     "output_type": "error",
     "traceback": [
      "\u001B[0;31m---------------------------------------------------------------------------\u001B[0m",
      "\u001B[0;31mTypeError\u001B[0m                                 Traceback (most recent call last)",
      "Input \u001B[0;32mIn [40]\u001B[0m, in \u001B[0;36m<cell line: 1>\u001B[0;34m()\u001B[0m\n\u001B[0;32m----> 1\u001B[0m \u001B[43mcar_sales\u001B[49m\u001B[43m[\u001B[49m\u001B[38;5;124;43m\"\u001B[39;49m\u001B[38;5;124;43mPrice\u001B[39;49m\u001B[38;5;124;43m\"\u001B[39;49m\u001B[43m]\u001B[49m\u001B[38;5;241;43m.\u001B[39;49m\u001B[43mplot\u001B[49m\u001B[43m(\u001B[49m\u001B[43m)\u001B[49m\n",
      "File \u001B[0;32m/opt/anaconda3/lib/python3.9/site-packages/pandas/plotting/_core.py:972\u001B[0m, in \u001B[0;36mPlotAccessor.__call__\u001B[0;34m(self, *args, **kwargs)\u001B[0m\n\u001B[1;32m    969\u001B[0m             label_name \u001B[38;5;241m=\u001B[39m label_kw \u001B[38;5;129;01mor\u001B[39;00m data\u001B[38;5;241m.\u001B[39mcolumns\n\u001B[1;32m    970\u001B[0m             data\u001B[38;5;241m.\u001B[39mcolumns \u001B[38;5;241m=\u001B[39m label_name\n\u001B[0;32m--> 972\u001B[0m \u001B[38;5;28;01mreturn\u001B[39;00m \u001B[43mplot_backend\u001B[49m\u001B[38;5;241;43m.\u001B[39;49m\u001B[43mplot\u001B[49m\u001B[43m(\u001B[49m\u001B[43mdata\u001B[49m\u001B[43m,\u001B[49m\u001B[43m \u001B[49m\u001B[43mkind\u001B[49m\u001B[38;5;241;43m=\u001B[39;49m\u001B[43mkind\u001B[49m\u001B[43m,\u001B[49m\u001B[43m \u001B[49m\u001B[38;5;241;43m*\u001B[39;49m\u001B[38;5;241;43m*\u001B[39;49m\u001B[43mkwargs\u001B[49m\u001B[43m)\u001B[49m\n",
      "File \u001B[0;32m/opt/anaconda3/lib/python3.9/site-packages/pandas/plotting/_matplotlib/__init__.py:71\u001B[0m, in \u001B[0;36mplot\u001B[0;34m(data, kind, **kwargs)\u001B[0m\n\u001B[1;32m     69\u001B[0m         kwargs[\u001B[38;5;124m\"\u001B[39m\u001B[38;5;124max\u001B[39m\u001B[38;5;124m\"\u001B[39m] \u001B[38;5;241m=\u001B[39m \u001B[38;5;28mgetattr\u001B[39m(ax, \u001B[38;5;124m\"\u001B[39m\u001B[38;5;124mleft_ax\u001B[39m\u001B[38;5;124m\"\u001B[39m, ax)\n\u001B[1;32m     70\u001B[0m plot_obj \u001B[38;5;241m=\u001B[39m PLOT_CLASSES[kind](data, \u001B[38;5;241m*\u001B[39m\u001B[38;5;241m*\u001B[39mkwargs)\n\u001B[0;32m---> 71\u001B[0m \u001B[43mplot_obj\u001B[49m\u001B[38;5;241;43m.\u001B[39;49m\u001B[43mgenerate\u001B[49m\u001B[43m(\u001B[49m\u001B[43m)\u001B[49m\n\u001B[1;32m     72\u001B[0m plot_obj\u001B[38;5;241m.\u001B[39mdraw()\n\u001B[1;32m     73\u001B[0m \u001B[38;5;28;01mreturn\u001B[39;00m plot_obj\u001B[38;5;241m.\u001B[39mresult\n",
      "File \u001B[0;32m/opt/anaconda3/lib/python3.9/site-packages/pandas/plotting/_matplotlib/core.py:327\u001B[0m, in \u001B[0;36mMPLPlot.generate\u001B[0;34m(self)\u001B[0m\n\u001B[1;32m    325\u001B[0m \u001B[38;5;28;01mdef\u001B[39;00m \u001B[38;5;21mgenerate\u001B[39m(\u001B[38;5;28mself\u001B[39m):\n\u001B[1;32m    326\u001B[0m     \u001B[38;5;28mself\u001B[39m\u001B[38;5;241m.\u001B[39m_args_adjust()\n\u001B[0;32m--> 327\u001B[0m     \u001B[38;5;28;43mself\u001B[39;49m\u001B[38;5;241;43m.\u001B[39;49m\u001B[43m_compute_plot_data\u001B[49m\u001B[43m(\u001B[49m\u001B[43m)\u001B[49m\n\u001B[1;32m    328\u001B[0m     \u001B[38;5;28mself\u001B[39m\u001B[38;5;241m.\u001B[39m_setup_subplots()\n\u001B[1;32m    329\u001B[0m     \u001B[38;5;28mself\u001B[39m\u001B[38;5;241m.\u001B[39m_make_plot()\n",
      "File \u001B[0;32m/opt/anaconda3/lib/python3.9/site-packages/pandas/plotting/_matplotlib/core.py:506\u001B[0m, in \u001B[0;36mMPLPlot._compute_plot_data\u001B[0;34m(self)\u001B[0m\n\u001B[1;32m    504\u001B[0m \u001B[38;5;66;03m# no non-numeric frames or series allowed\u001B[39;00m\n\u001B[1;32m    505\u001B[0m \u001B[38;5;28;01mif\u001B[39;00m is_empty:\n\u001B[0;32m--> 506\u001B[0m     \u001B[38;5;28;01mraise\u001B[39;00m \u001B[38;5;167;01mTypeError\u001B[39;00m(\u001B[38;5;124m\"\u001B[39m\u001B[38;5;124mno numeric data to plot\u001B[39m\u001B[38;5;124m\"\u001B[39m)\n\u001B[1;32m    508\u001B[0m \u001B[38;5;28mself\u001B[39m\u001B[38;5;241m.\u001B[39mdata \u001B[38;5;241m=\u001B[39m numeric_data\u001B[38;5;241m.\u001B[39mapply(\u001B[38;5;28mself\u001B[39m\u001B[38;5;241m.\u001B[39m_convert_to_ndarray)\n",
      "\u001B[0;31mTypeError\u001B[0m: no numeric data to plot"
     ]
    }
   ],
   "source": [
    "car_sales[\"Price\"].plot()\n",
    "\n",
    "\n",
    "# no numeric data to plot\n",
    "# because Price is formatted as an Object in our CSV file."
   ]
  },
  {
   "cell_type": "code",
   "execution_count": 41,
   "id": "4fe361d9",
   "metadata": {},
   "outputs": [
    {
     "name": "stderr",
     "output_type": "stream",
     "text": [
      "/var/folders/m_/b2znwxkd3f18mmz8j9mdf4xh0000gn/T/ipykernel_44308/2826840804.py:1: FutureWarning: The default value of regex will change from True to False in a future version.\n",
      "  car_sales['Price'] = car_sales[\"Price\"].str.replace('[\\$\\,\\.]', '').astype(int)\n"
     ]
    },
    {
     "data": {
      "text/plain": "     Make Colour  Odometer (KM)  Doors    Price\n0  Toyota  White         150043      4   400000\n1   Honda    Red          87899      4   500000\n2  Toyota   Blue          32549      3   700000\n3     BMW  Black          11179      5  2200000\n4  Nissan  White         213095      4   350000\n5  Toyota  Green          99213      4   450000\n6   Honda   Blue          45698      4   750000\n7   Honda   Blue          54738      4   700000\n8  Toyota  White          60000      4   625000\n9  Nissan  White          31600      4   970000",
      "text/html": "<div>\n<style scoped>\n    .dataframe tbody tr th:only-of-type {\n        vertical-align: middle;\n    }\n\n    .dataframe tbody tr th {\n        vertical-align: top;\n    }\n\n    .dataframe thead th {\n        text-align: right;\n    }\n</style>\n<table border=\"1\" class=\"dataframe\">\n  <thead>\n    <tr style=\"text-align: right;\">\n      <th></th>\n      <th>Make</th>\n      <th>Colour</th>\n      <th>Odometer (KM)</th>\n      <th>Doors</th>\n      <th>Price</th>\n    </tr>\n  </thead>\n  <tbody>\n    <tr>\n      <th>0</th>\n      <td>Toyota</td>\n      <td>White</td>\n      <td>150043</td>\n      <td>4</td>\n      <td>400000</td>\n    </tr>\n    <tr>\n      <th>1</th>\n      <td>Honda</td>\n      <td>Red</td>\n      <td>87899</td>\n      <td>4</td>\n      <td>500000</td>\n    </tr>\n    <tr>\n      <th>2</th>\n      <td>Toyota</td>\n      <td>Blue</td>\n      <td>32549</td>\n      <td>3</td>\n      <td>700000</td>\n    </tr>\n    <tr>\n      <th>3</th>\n      <td>BMW</td>\n      <td>Black</td>\n      <td>11179</td>\n      <td>5</td>\n      <td>2200000</td>\n    </tr>\n    <tr>\n      <th>4</th>\n      <td>Nissan</td>\n      <td>White</td>\n      <td>213095</td>\n      <td>4</td>\n      <td>350000</td>\n    </tr>\n    <tr>\n      <th>5</th>\n      <td>Toyota</td>\n      <td>Green</td>\n      <td>99213</td>\n      <td>4</td>\n      <td>450000</td>\n    </tr>\n    <tr>\n      <th>6</th>\n      <td>Honda</td>\n      <td>Blue</td>\n      <td>45698</td>\n      <td>4</td>\n      <td>750000</td>\n    </tr>\n    <tr>\n      <th>7</th>\n      <td>Honda</td>\n      <td>Blue</td>\n      <td>54738</td>\n      <td>4</td>\n      <td>700000</td>\n    </tr>\n    <tr>\n      <th>8</th>\n      <td>Toyota</td>\n      <td>White</td>\n      <td>60000</td>\n      <td>4</td>\n      <td>625000</td>\n    </tr>\n    <tr>\n      <th>9</th>\n      <td>Nissan</td>\n      <td>White</td>\n      <td>31600</td>\n      <td>4</td>\n      <td>970000</td>\n    </tr>\n  </tbody>\n</table>\n</div>"
     },
     "execution_count": 41,
     "metadata": {},
     "output_type": "execute_result"
    }
   ],
   "source": [
    "car_sales['Price'] = car_sales[\"Price\"].str.replace('[\\$\\,\\.]', '').astype(int)\n",
    "\n",
    "car_sales"
   ]
  },
  {
   "cell_type": "code",
   "execution_count": 42,
   "id": "3ed2a6ee",
   "metadata": {},
   "outputs": [
    {
     "ename": "AttributeError",
     "evalue": "Can only use .str accessor with string values!",
     "output_type": "error",
     "traceback": [
      "\u001B[0;31m---------------------------------------------------------------------------\u001B[0m",
      "\u001B[0;31mAttributeError\u001B[0m                            Traceback (most recent call last)",
      "Input \u001B[0;32mIn [42]\u001B[0m, in \u001B[0;36m<cell line: 2>\u001B[0;34m()\u001B[0m\n\u001B[1;32m      1\u001B[0m \u001B[38;5;66;03m# car_sales[\"Price\"] = car_sales[\"Price\"].str.replace('[\\$\\,]|\\.\\d*', '').astype(int)\u001B[39;00m\n\u001B[0;32m----> 2\u001B[0m car_sales[\u001B[38;5;124m\"\u001B[39m\u001B[38;5;124mPrice\u001B[39m\u001B[38;5;124m\"\u001B[39m] \u001B[38;5;241m=\u001B[39m \u001B[43mcar_sales\u001B[49m\u001B[43m[\u001B[49m\u001B[38;5;124;43m\"\u001B[39;49m\u001B[38;5;124;43mPrice\u001B[39;49m\u001B[38;5;124;43m\"\u001B[39;49m\u001B[43m]\u001B[49m\u001B[38;5;241;43m.\u001B[39;49m\u001B[43mstr\u001B[49m\u001B[38;5;241m.\u001B[39mreplace(\u001B[38;5;124m'\u001B[39m\u001B[38;5;124m[\u001B[39m\u001B[38;5;124m\\\u001B[39m\u001B[38;5;124m$\u001B[39m\u001B[38;5;124m\\\u001B[39m\u001B[38;5;124m,]\u001B[39m\u001B[38;5;124m'\u001B[39m, \u001B[38;5;124m'\u001B[39m\u001B[38;5;124m'\u001B[39m, regex \u001B[38;5;241m=\u001B[39m \u001B[38;5;28;01mTrue\u001B[39;00m)\u001B[38;5;241m.\u001B[39mastype(\u001B[38;5;28mfloat\u001B[39m)\n\u001B[1;32m      3\u001B[0m car_sales\n",
      "File \u001B[0;32m/opt/anaconda3/lib/python3.9/site-packages/pandas/core/generic.py:5575\u001B[0m, in \u001B[0;36mNDFrame.__getattr__\u001B[0;34m(self, name)\u001B[0m\n\u001B[1;32m   5568\u001B[0m \u001B[38;5;28;01mif\u001B[39;00m (\n\u001B[1;32m   5569\u001B[0m     name \u001B[38;5;129;01mnot\u001B[39;00m \u001B[38;5;129;01min\u001B[39;00m \u001B[38;5;28mself\u001B[39m\u001B[38;5;241m.\u001B[39m_internal_names_set\n\u001B[1;32m   5570\u001B[0m     \u001B[38;5;129;01mand\u001B[39;00m name \u001B[38;5;129;01mnot\u001B[39;00m \u001B[38;5;129;01min\u001B[39;00m \u001B[38;5;28mself\u001B[39m\u001B[38;5;241m.\u001B[39m_metadata\n\u001B[1;32m   5571\u001B[0m     \u001B[38;5;129;01mand\u001B[39;00m name \u001B[38;5;129;01mnot\u001B[39;00m \u001B[38;5;129;01min\u001B[39;00m \u001B[38;5;28mself\u001B[39m\u001B[38;5;241m.\u001B[39m_accessors\n\u001B[1;32m   5572\u001B[0m     \u001B[38;5;129;01mand\u001B[39;00m \u001B[38;5;28mself\u001B[39m\u001B[38;5;241m.\u001B[39m_info_axis\u001B[38;5;241m.\u001B[39m_can_hold_identifiers_and_holds_name(name)\n\u001B[1;32m   5573\u001B[0m ):\n\u001B[1;32m   5574\u001B[0m     \u001B[38;5;28;01mreturn\u001B[39;00m \u001B[38;5;28mself\u001B[39m[name]\n\u001B[0;32m-> 5575\u001B[0m \u001B[38;5;28;01mreturn\u001B[39;00m \u001B[38;5;28;43mobject\u001B[39;49m\u001B[38;5;241;43m.\u001B[39;49m\u001B[38;5;21;43m__getattribute__\u001B[39;49m\u001B[43m(\u001B[49m\u001B[38;5;28;43mself\u001B[39;49m\u001B[43m,\u001B[49m\u001B[43m \u001B[49m\u001B[43mname\u001B[49m\u001B[43m)\u001B[49m\n",
      "File \u001B[0;32m/opt/anaconda3/lib/python3.9/site-packages/pandas/core/accessor.py:182\u001B[0m, in \u001B[0;36mCachedAccessor.__get__\u001B[0;34m(self, obj, cls)\u001B[0m\n\u001B[1;32m    179\u001B[0m \u001B[38;5;28;01mif\u001B[39;00m obj \u001B[38;5;129;01mis\u001B[39;00m \u001B[38;5;28;01mNone\u001B[39;00m:\n\u001B[1;32m    180\u001B[0m     \u001B[38;5;66;03m# we're accessing the attribute of the class, i.e., Dataset.geo\u001B[39;00m\n\u001B[1;32m    181\u001B[0m     \u001B[38;5;28;01mreturn\u001B[39;00m \u001B[38;5;28mself\u001B[39m\u001B[38;5;241m.\u001B[39m_accessor\n\u001B[0;32m--> 182\u001B[0m accessor_obj \u001B[38;5;241m=\u001B[39m \u001B[38;5;28;43mself\u001B[39;49m\u001B[38;5;241;43m.\u001B[39;49m\u001B[43m_accessor\u001B[49m\u001B[43m(\u001B[49m\u001B[43mobj\u001B[49m\u001B[43m)\u001B[49m\n\u001B[1;32m    183\u001B[0m \u001B[38;5;66;03m# Replace the property with the accessor object. Inspired by:\u001B[39;00m\n\u001B[1;32m    184\u001B[0m \u001B[38;5;66;03m# https://www.pydanny.com/cached-property.html\u001B[39;00m\n\u001B[1;32m    185\u001B[0m \u001B[38;5;66;03m# We need to use object.__setattr__ because we overwrite __setattr__ on\u001B[39;00m\n\u001B[1;32m    186\u001B[0m \u001B[38;5;66;03m# NDFrame\u001B[39;00m\n\u001B[1;32m    187\u001B[0m \u001B[38;5;28mobject\u001B[39m\u001B[38;5;241m.\u001B[39m\u001B[38;5;21m__setattr__\u001B[39m(obj, \u001B[38;5;28mself\u001B[39m\u001B[38;5;241m.\u001B[39m_name, accessor_obj)\n",
      "File \u001B[0;32m/opt/anaconda3/lib/python3.9/site-packages/pandas/core/strings/accessor.py:177\u001B[0m, in \u001B[0;36mStringMethods.__init__\u001B[0;34m(self, data)\u001B[0m\n\u001B[1;32m    174\u001B[0m \u001B[38;5;28;01mdef\u001B[39;00m \u001B[38;5;21m__init__\u001B[39m(\u001B[38;5;28mself\u001B[39m, data):\n\u001B[1;32m    175\u001B[0m     \u001B[38;5;28;01mfrom\u001B[39;00m \u001B[38;5;21;01mpandas\u001B[39;00m\u001B[38;5;21;01m.\u001B[39;00m\u001B[38;5;21;01mcore\u001B[39;00m\u001B[38;5;21;01m.\u001B[39;00m\u001B[38;5;21;01marrays\u001B[39;00m\u001B[38;5;21;01m.\u001B[39;00m\u001B[38;5;21;01mstring_\u001B[39;00m \u001B[38;5;28;01mimport\u001B[39;00m StringDtype\n\u001B[0;32m--> 177\u001B[0m     \u001B[38;5;28mself\u001B[39m\u001B[38;5;241m.\u001B[39m_inferred_dtype \u001B[38;5;241m=\u001B[39m \u001B[38;5;28;43mself\u001B[39;49m\u001B[38;5;241;43m.\u001B[39;49m\u001B[43m_validate\u001B[49m\u001B[43m(\u001B[49m\u001B[43mdata\u001B[49m\u001B[43m)\u001B[49m\n\u001B[1;32m    178\u001B[0m     \u001B[38;5;28mself\u001B[39m\u001B[38;5;241m.\u001B[39m_is_categorical \u001B[38;5;241m=\u001B[39m is_categorical_dtype(data\u001B[38;5;241m.\u001B[39mdtype)\n\u001B[1;32m    179\u001B[0m     \u001B[38;5;28mself\u001B[39m\u001B[38;5;241m.\u001B[39m_is_string \u001B[38;5;241m=\u001B[39m \u001B[38;5;28misinstance\u001B[39m(data\u001B[38;5;241m.\u001B[39mdtype, StringDtype)\n",
      "File \u001B[0;32m/opt/anaconda3/lib/python3.9/site-packages/pandas/core/strings/accessor.py:231\u001B[0m, in \u001B[0;36mStringMethods._validate\u001B[0;34m(data)\u001B[0m\n\u001B[1;32m    228\u001B[0m inferred_dtype \u001B[38;5;241m=\u001B[39m lib\u001B[38;5;241m.\u001B[39minfer_dtype(values, skipna\u001B[38;5;241m=\u001B[39m\u001B[38;5;28;01mTrue\u001B[39;00m)\n\u001B[1;32m    230\u001B[0m \u001B[38;5;28;01mif\u001B[39;00m inferred_dtype \u001B[38;5;129;01mnot\u001B[39;00m \u001B[38;5;129;01min\u001B[39;00m allowed_types:\n\u001B[0;32m--> 231\u001B[0m     \u001B[38;5;28;01mraise\u001B[39;00m \u001B[38;5;167;01mAttributeError\u001B[39;00m(\u001B[38;5;124m\"\u001B[39m\u001B[38;5;124mCan only use .str accessor with string values!\u001B[39m\u001B[38;5;124m\"\u001B[39m)\n\u001B[1;32m    232\u001B[0m \u001B[38;5;28;01mreturn\u001B[39;00m inferred_dtype\n",
      "\u001B[0;31mAttributeError\u001B[0m: Can only use .str accessor with string values!"
     ]
    }
   ],
   "source": [
    "# car_sales[\"Price\"] = car_sales[\"Price\"].str.replace('[\\$\\,]|\\.\\d*', '').astype(int)\n",
    "car_sales[\"Price\"] = car_sales[\"Price\"].str.replace('[\\$\\,]', '', regex = True).astype(float)\n",
    "car_sales"
   ]
  },
  {
   "cell_type": "code",
   "execution_count": 43,
   "id": "fdae13a1",
   "metadata": {},
   "outputs": [
    {
     "data": {
      "text/plain": "<AxesSubplot:>"
     },
     "execution_count": 43,
     "metadata": {},
     "output_type": "execute_result"
    },
    {
     "data": {
      "text/plain": "<Figure size 432x288 with 1 Axes>",
      "image/png": "[encoded data removed]"
     },
     "metadata": {
      "needs_background": "light"
     },
     "output_type": "display_data"
    }
   ],
   "source": [
    "car_sales.plot()"
   ]
  },
  {
   "cell_type": "code",
   "execution_count": 44,
   "id": "b51b006b",
   "metadata": {},
   "outputs": [
    {
     "data": {
      "text/plain": "<AxesSubplot:>"
     },
     "execution_count": 44,
     "metadata": {},
     "output_type": "execute_result"
    },
    {
     "data": {
      "text/plain": "<Figure size 432x288 with 1 Axes>",
      "image/png": "[encoded data removed]"
     },
     "metadata": {
      "needs_background": "light"
     },
     "output_type": "display_data"
    }
   ],
   "source": [
    "car_sales['Price'].plot()"
   ]
  },
  {
   "cell_type": "markdown",
   "id": "c8db192e",
   "metadata": {},
   "source": [
    "## Manipulating Data:"
   ]
  },
  {
   "cell_type": "code",
   "execution_count": 45,
   "id": "4d9fd233",
   "metadata": {},
   "outputs": [
    {
     "data": {
      "text/plain": "0    toyota\n1     honda\n2    toyota\n3       bmw\n4    nissan\n5    toyota\n6     honda\n7     honda\n8    toyota\n9    nissan\nName: Make, dtype: object"
     },
     "execution_count": 45,
     "metadata": {},
     "output_type": "execute_result"
    }
   ],
   "source": [
    "car_sales[\"Make\"].str.lower()"
   ]
  },
  {
   "cell_type": "code",
   "execution_count": 46,
   "id": "346d20f0",
   "metadata": {},
   "outputs": [
    {
     "data": {
      "text/plain": "     Make Colour  Odometer (KM)  Doors    Price\n0  Toyota  White         150043      4   400000\n1   Honda    Red          87899      4   500000\n2  Toyota   Blue          32549      3   700000\n3     BMW  Black          11179      5  2200000\n4  Nissan  White         213095      4   350000\n5  Toyota  Green          99213      4   450000\n6   Honda   Blue          45698      4   750000\n7   Honda   Blue          54738      4   700000\n8  Toyota  White          60000      4   625000\n9  Nissan  White          31600      4   970000",
      "text/html": "<div>\n<style scoped>\n    .dataframe tbody tr th:only-of-type {\n        vertical-align: middle;\n    }\n\n    .dataframe tbody tr th {\n        vertical-align: top;\n    }\n\n    .dataframe thead th {\n        text-align: right;\n    }\n</style>\n<table border=\"1\" class=\"dataframe\">\n  <thead>\n    <tr style=\"text-align: right;\">\n      <th></th>\n      <th>Make</th>\n      <th>Colour</th>\n      <th>Odometer (KM)</th>\n      <th>Doors</th>\n      <th>Price</th>\n    </tr>\n  </thead>\n  <tbody>\n    <tr>\n      <th>0</th>\n      <td>Toyota</td>\n      <td>White</td>\n      <td>150043</td>\n      <td>4</td>\n      <td>400000</td>\n    </tr>\n    <tr>\n      <th>1</th>\n      <td>Honda</td>\n      <td>Red</td>\n      <td>87899</td>\n      <td>4</td>\n      <td>500000</td>\n    </tr>\n    <tr>\n      <th>2</th>\n      <td>Toyota</td>\n      <td>Blue</td>\n      <td>32549</td>\n      <td>3</td>\n      <td>700000</td>\n    </tr>\n    <tr>\n      <th>3</th>\n      <td>BMW</td>\n      <td>Black</td>\n      <td>11179</td>\n      <td>5</td>\n      <td>2200000</td>\n    </tr>\n    <tr>\n      <th>4</th>\n      <td>Nissan</td>\n      <td>White</td>\n      <td>213095</td>\n      <td>4</td>\n      <td>350000</td>\n    </tr>\n    <tr>\n      <th>5</th>\n      <td>Toyota</td>\n      <td>Green</td>\n      <td>99213</td>\n      <td>4</td>\n      <td>450000</td>\n    </tr>\n    <tr>\n      <th>6</th>\n      <td>Honda</td>\n      <td>Blue</td>\n      <td>45698</td>\n      <td>4</td>\n      <td>750000</td>\n    </tr>\n    <tr>\n      <th>7</th>\n      <td>Honda</td>\n      <td>Blue</td>\n      <td>54738</td>\n      <td>4</td>\n      <td>700000</td>\n    </tr>\n    <tr>\n      <th>8</th>\n      <td>Toyota</td>\n      <td>White</td>\n      <td>60000</td>\n      <td>4</td>\n      <td>625000</td>\n    </tr>\n    <tr>\n      <th>9</th>\n      <td>Nissan</td>\n      <td>White</td>\n      <td>31600</td>\n      <td>4</td>\n      <td>970000</td>\n    </tr>\n  </tbody>\n</table>\n</div>"
     },
     "execution_count": 46,
     "metadata": {},
     "output_type": "execute_result"
    }
   ],
   "source": [
    "car_sales"
   ]
  },
  {
   "cell_type": "code",
   "execution_count": 48,
   "id": "3a038b25",
   "metadata": {},
   "outputs": [],
   "source": [
    "car_sales['Make'] = car_sales[\"Make\"].str.lower()"
   ]
  },
  {
   "cell_type": "code",
   "execution_count": 49,
   "id": "3d2a9aa5",
   "metadata": {},
   "outputs": [
    {
     "data": {
      "text/plain": "     Make Colour  Odometer (KM)  Doors    Price\n0  toyota  White         150043      4   400000\n1   honda    Red          87899      4   500000\n2  toyota   Blue          32549      3   700000\n3     bmw  Black          11179      5  2200000\n4  nissan  White         213095      4   350000\n5  toyota  Green          99213      4   450000\n6   honda   Blue          45698      4   750000\n7   honda   Blue          54738      4   700000\n8  toyota  White          60000      4   625000\n9  nissan  White          31600      4   970000",
      "text/html": "<div>\n<style scoped>\n    .dataframe tbody tr th:only-of-type {\n        vertical-align: middle;\n    }\n\n    .dataframe tbody tr th {\n        vertical-align: top;\n    }\n\n    .dataframe thead th {\n        text-align: right;\n    }\n</style>\n<table border=\"1\" class=\"dataframe\">\n  <thead>\n    <tr style=\"text-align: right;\">\n      <th></th>\n      <th>Make</th>\n      <th>Colour</th>\n      <th>Odometer (KM)</th>\n      <th>Doors</th>\n      <th>Price</th>\n    </tr>\n  </thead>\n  <tbody>\n    <tr>\n      <th>0</th>\n      <td>toyota</td>\n      <td>White</td>\n      <td>150043</td>\n      <td>4</td>\n      <td>400000</td>\n    </tr>\n    <tr>\n      <th>1</th>\n      <td>honda</td>\n      <td>Red</td>\n      <td>87899</td>\n      <td>4</td>\n      <td>500000</td>\n    </tr>\n    <tr>\n      <th>2</th>\n      <td>toyota</td>\n      <td>Blue</td>\n      <td>32549</td>\n      <td>3</td>\n      <td>700000</td>\n    </tr>\n    <tr>\n      <th>3</th>\n      <td>bmw</td>\n      <td>Black</td>\n      <td>11179</td>\n      <td>5</td>\n      <td>2200000</td>\n    </tr>\n    <tr>\n      <th>4</th>\n      <td>nissan</td>\n      <td>White</td>\n      <td>213095</td>\n      <td>4</td>\n      <td>350000</td>\n    </tr>\n    <tr>\n      <th>5</th>\n      <td>toyota</td>\n      <td>Green</td>\n      <td>99213</td>\n      <td>4</td>\n      <td>450000</td>\n    </tr>\n    <tr>\n      <th>6</th>\n      <td>honda</td>\n      <td>Blue</td>\n      <td>45698</td>\n      <td>4</td>\n      <td>750000</td>\n    </tr>\n    <tr>\n      <th>7</th>\n      <td>honda</td>\n      <td>Blue</td>\n      <td>54738</td>\n      <td>4</td>\n      <td>700000</td>\n    </tr>\n    <tr>\n      <th>8</th>\n      <td>toyota</td>\n      <td>White</td>\n      <td>60000</td>\n      <td>4</td>\n      <td>625000</td>\n    </tr>\n    <tr>\n      <th>9</th>\n      <td>nissan</td>\n      <td>White</td>\n      <td>31600</td>\n      <td>4</td>\n      <td>970000</td>\n    </tr>\n  </tbody>\n</table>\n</div>"
     },
     "execution_count": 49,
     "metadata": {},
     "output_type": "execute_result"
    }
   ],
   "source": [
    "car_sales"
   ]
  },
  {
   "cell_type": "code",
   "execution_count": 50,
   "id": "bbacc9a6",
   "metadata": {},
   "outputs": [
    {
     "data": {
      "text/plain": "     Make Colour  Odometer  Doors    Price\n0  Toyota  White  150043.0    4.0   $4,000\n1   Honda    Red   87899.0    4.0   $5,000\n2  Toyota   Blue       NaN    3.0   $7,000\n3     BMW  Black   11179.0    5.0  $22,000\n4  Nissan  White  213095.0    4.0   $3,500\n5  Toyota  Green       NaN    4.0   $4,500\n6   Honda    NaN       NaN    4.0   $7,500\n7   Honda   Blue       NaN    4.0      NaN\n8  Toyota  White   60000.0    NaN      NaN\n9     NaN  White   31600.0    4.0   $9,700",
      "text/html": "<div>\n<style scoped>\n    .dataframe tbody tr th:only-of-type {\n        vertical-align: middle;\n    }\n\n    .dataframe tbody tr th {\n        vertical-align: top;\n    }\n\n    .dataframe thead th {\n        text-align: right;\n    }\n</style>\n<table border=\"1\" class=\"dataframe\">\n  <thead>\n    <tr style=\"text-align: right;\">\n      <th></th>\n      <th>Make</th>\n      <th>Colour</th>\n      <th>Odometer</th>\n      <th>Doors</th>\n      <th>Price</th>\n    </tr>\n  </thead>\n  <tbody>\n    <tr>\n      <th>0</th>\n      <td>Toyota</td>\n      <td>White</td>\n      <td>150043.0</td>\n      <td>4.0</td>\n      <td>$4,000</td>\n    </tr>\n    <tr>\n      <th>1</th>\n      <td>Honda</td>\n      <td>Red</td>\n      <td>87899.0</td>\n      <td>4.0</td>\n      <td>$5,000</td>\n    </tr>\n    <tr>\n      <th>2</th>\n      <td>Toyota</td>\n      <td>Blue</td>\n      <td>NaN</td>\n      <td>3.0</td>\n      <td>$7,000</td>\n    </tr>\n    <tr>\n      <th>3</th>\n      <td>BMW</td>\n      <td>Black</td>\n      <td>11179.0</td>\n      <td>5.0</td>\n      <td>$22,000</td>\n    </tr>\n    <tr>\n      <th>4</th>\n      <td>Nissan</td>\n      <td>White</td>\n      <td>213095.0</td>\n      <td>4.0</td>\n      <td>$3,500</td>\n    </tr>\n    <tr>\n      <th>5</th>\n      <td>Toyota</td>\n      <td>Green</td>\n      <td>NaN</td>\n      <td>4.0</td>\n      <td>$4,500</td>\n    </tr>\n    <tr>\n      <th>6</th>\n      <td>Honda</td>\n      <td>NaN</td>\n      <td>NaN</td>\n      <td>4.0</td>\n      <td>$7,500</td>\n    </tr>\n    <tr>\n      <th>7</th>\n      <td>Honda</td>\n      <td>Blue</td>\n      <td>NaN</td>\n      <td>4.0</td>\n      <td>NaN</td>\n    </tr>\n    <tr>\n      <th>8</th>\n      <td>Toyota</td>\n      <td>White</td>\n      <td>60000.0</td>\n      <td>NaN</td>\n      <td>NaN</td>\n    </tr>\n    <tr>\n      <th>9</th>\n      <td>NaN</td>\n      <td>White</td>\n      <td>31600.0</td>\n      <td>4.0</td>\n      <td>$9,700</td>\n    </tr>\n  </tbody>\n</table>\n</div>"
     },
     "execution_count": 50,
     "metadata": {},
     "output_type": "execute_result"
    }
   ],
   "source": [
    "# missing data: inplace function\n",
    "\n",
    "car_sales_missing = pd.read_csv(\"car-sales-missing-data.csv\")\n",
    "car_sales_missing"
   ]
  },
  {
   "cell_type": "code",
   "execution_count": 51,
   "id": "0c4a6b91",
   "metadata": {},
   "outputs": [
    {
     "data": {
      "text/plain": "92302.66666666667"
     },
     "execution_count": 51,
     "metadata": {},
     "output_type": "execute_result"
    }
   ],
   "source": [
    "car_sales_missing[\"Odometer\"].mean()"
   ]
  },
  {
   "cell_type": "code",
   "execution_count": 52,
   "id": "67a03728",
   "metadata": {},
   "outputs": [
    {
     "data": {
      "text/plain": "0    150043.000000\n1     87899.000000\n2     92302.666667\n3     11179.000000\n4    213095.000000\n5     92302.666667\n6     92302.666667\n7     92302.666667\n8     60000.000000\n9     31600.000000\nName: Odometer, dtype: float64"
     },
     "execution_count": 52,
     "metadata": {},
     "output_type": "execute_result"
    }
   ],
   "source": [
    "# pandas describes missing values as NAN -> no value\n",
    "\n",
    "# filling the NAN values\n",
    "\n",
    "car_sales_missing[\"Odometer\"].fillna(car_sales_missing[\"Odometer\"].mean()) # fill missing values with MEAN value!"
   ]
  },
  {
   "cell_type": "code",
   "execution_count": 53,
   "id": "2670d745",
   "metadata": {},
   "outputs": [],
   "source": [
    "# Reassignment OR Inplace = true:\n",
    "# car_sales_missing[\"Odometer\"] = car_sales_missing[\"Odometer\"].fillna(car_sales_missing[\"Odometer\"].mean()) \n",
    "\n",
    "car_sales_missing[\"Odometer\"].fillna(car_sales_missing[\"Odometer\"].mean(), inplace = True)"
   ]
  },
  {
   "cell_type": "code",
   "execution_count": 54,
   "id": "fa97e1da",
   "metadata": {},
   "outputs": [
    {
     "data": {
      "text/plain": "     Make Colour       Odometer  Doors    Price\n0  Toyota  White  150043.000000    4.0   $4,000\n1   Honda    Red   87899.000000    4.0   $5,000\n2  Toyota   Blue   92302.666667    3.0   $7,000\n3     BMW  Black   11179.000000    5.0  $22,000\n4  Nissan  White  213095.000000    4.0   $3,500\n5  Toyota  Green   92302.666667    4.0   $4,500\n6   Honda    NaN   92302.666667    4.0   $7,500\n7   Honda   Blue   92302.666667    4.0      NaN\n8  Toyota  White   60000.000000    NaN      NaN\n9     NaN  White   31600.000000    4.0   $9,700",
      "text/html": "<div>\n<style scoped>\n    .dataframe tbody tr th:only-of-type {\n        vertical-align: middle;\n    }\n\n    .dataframe tbody tr th {\n        vertical-align: top;\n    }\n\n    .dataframe thead th {\n        text-align: right;\n    }\n</style>\n<table border=\"1\" class=\"dataframe\">\n  <thead>\n    <tr style=\"text-align: right;\">\n      <th></th>\n      <th>Make</th>\n      <th>Colour</th>\n      <th>Odometer</th>\n      <th>Doors</th>\n      <th>Price</th>\n    </tr>\n  </thead>\n  <tbody>\n    <tr>\n      <th>0</th>\n      <td>Toyota</td>\n      <td>White</td>\n      <td>150043.000000</td>\n      <td>4.0</td>\n      <td>$4,000</td>\n    </tr>\n    <tr>\n      <th>1</th>\n      <td>Honda</td>\n      <td>Red</td>\n      <td>87899.000000</td>\n      <td>4.0</td>\n      <td>$5,000</td>\n    </tr>\n    <tr>\n      <th>2</th>\n      <td>Toyota</td>\n      <td>Blue</td>\n      <td>92302.666667</td>\n      <td>3.0</td>\n      <td>$7,000</td>\n    </tr>\n    <tr>\n      <th>3</th>\n      <td>BMW</td>\n      <td>Black</td>\n      <td>11179.000000</td>\n      <td>5.0</td>\n      <td>$22,000</td>\n    </tr>\n    <tr>\n      <th>4</th>\n      <td>Nissan</td>\n      <td>White</td>\n      <td>213095.000000</td>\n      <td>4.0</td>\n      <td>$3,500</td>\n    </tr>\n    <tr>\n      <th>5</th>\n      <td>Toyota</td>\n      <td>Green</td>\n      <td>92302.666667</td>\n      <td>4.0</td>\n      <td>$4,500</td>\n    </tr>\n    <tr>\n      <th>6</th>\n      <td>Honda</td>\n      <td>NaN</td>\n      <td>92302.666667</td>\n      <td>4.0</td>\n      <td>$7,500</td>\n    </tr>\n    <tr>\n      <th>7</th>\n      <td>Honda</td>\n      <td>Blue</td>\n      <td>92302.666667</td>\n      <td>4.0</td>\n      <td>NaN</td>\n    </tr>\n    <tr>\n      <th>8</th>\n      <td>Toyota</td>\n      <td>White</td>\n      <td>60000.000000</td>\n      <td>NaN</td>\n      <td>NaN</td>\n    </tr>\n    <tr>\n      <th>9</th>\n      <td>NaN</td>\n      <td>White</td>\n      <td>31600.000000</td>\n      <td>4.0</td>\n      <td>$9,700</td>\n    </tr>\n  </tbody>\n</table>\n</div>"
     },
     "execution_count": 54,
     "metadata": {},
     "output_type": "execute_result"
    }
   ],
   "source": [
    "car_sales_missing"
   ]
  },
  {
   "cell_type": "markdown",
   "source": [
    "## Column from Series"
   ],
   "metadata": {
    "collapsed": false
   }
  },
  {
   "cell_type": "code",
   "execution_count": 55,
   "id": "37b5965f",
   "metadata": {},
   "outputs": [
    {
     "data": {
      "text/plain": "     Make Colour  Odometer (KM)  Doors    Price  Seats\n0  toyota  White         150043      4   400000    5.0\n1   honda    Red          87899      4   500000    5.0\n2  toyota   Blue          32549      3   700000    5.0\n3     bmw  Black          11179      5  2200000    5.0\n4  nissan  White         213095      4   350000    5.0\n5  toyota  Green          99213      4   450000    NaN\n6   honda   Blue          45698      4   750000    NaN\n7   honda   Blue          54738      4   700000    NaN\n8  toyota  White          60000      4   625000    NaN\n9  nissan  White          31600      4   970000    NaN",
      "text/html": "<div>\n<style scoped>\n    .dataframe tbody tr th:only-of-type {\n        vertical-align: middle;\n    }\n\n    .dataframe tbody tr th {\n        vertical-align: top;\n    }\n\n    .dataframe thead th {\n        text-align: right;\n    }\n</style>\n<table border=\"1\" class=\"dataframe\">\n  <thead>\n    <tr style=\"text-align: right;\">\n      <th></th>\n      <th>Make</th>\n      <th>Colour</th>\n      <th>Odometer (KM)</th>\n      <th>Doors</th>\n      <th>Price</th>\n      <th>Seats</th>\n    </tr>\n  </thead>\n  <tbody>\n    <tr>\n      <th>0</th>\n      <td>toyota</td>\n      <td>White</td>\n      <td>150043</td>\n      <td>4</td>\n      <td>400000</td>\n      <td>5.0</td>\n    </tr>\n    <tr>\n      <th>1</th>\n      <td>honda</td>\n      <td>Red</td>\n      <td>87899</td>\n      <td>4</td>\n      <td>500000</td>\n      <td>5.0</td>\n    </tr>\n    <tr>\n      <th>2</th>\n      <td>toyota</td>\n      <td>Blue</td>\n      <td>32549</td>\n      <td>3</td>\n      <td>700000</td>\n      <td>5.0</td>\n    </tr>\n    <tr>\n      <th>3</th>\n      <td>bmw</td>\n      <td>Black</td>\n      <td>11179</td>\n      <td>5</td>\n      <td>2200000</td>\n      <td>5.0</td>\n    </tr>\n    <tr>\n      <th>4</th>\n      <td>nissan</td>\n      <td>White</td>\n      <td>213095</td>\n      <td>4</td>\n      <td>350000</td>\n      <td>5.0</td>\n    </tr>\n    <tr>\n      <th>5</th>\n      <td>toyota</td>\n      <td>Green</td>\n      <td>99213</td>\n      <td>4</td>\n      <td>450000</td>\n      <td>NaN</td>\n    </tr>\n    <tr>\n      <th>6</th>\n      <td>honda</td>\n      <td>Blue</td>\n      <td>45698</td>\n      <td>4</td>\n      <td>750000</td>\n      <td>NaN</td>\n    </tr>\n    <tr>\n      <th>7</th>\n      <td>honda</td>\n      <td>Blue</td>\n      <td>54738</td>\n      <td>4</td>\n      <td>700000</td>\n      <td>NaN</td>\n    </tr>\n    <tr>\n      <th>8</th>\n      <td>toyota</td>\n      <td>White</td>\n      <td>60000</td>\n      <td>4</td>\n      <td>625000</td>\n      <td>NaN</td>\n    </tr>\n    <tr>\n      <th>9</th>\n      <td>nissan</td>\n      <td>White</td>\n      <td>31600</td>\n      <td>4</td>\n      <td>970000</td>\n      <td>NaN</td>\n    </tr>\n  </tbody>\n</table>\n</div>"
     },
     "execution_count": 55,
     "metadata": {},
     "output_type": "execute_result"
    }
   ],
   "source": [
    "seats_column = pd.Series([5,5,5,5,5])\n",
    "\n",
    "# new column called seats\n",
    "\n",
    "car_sales[\"Seats\"] = seats_column\n",
    "\n",
    "car_sales"
   ]
  },
  {
   "cell_type": "code",
   "execution_count": 56,
   "outputs": [
    {
     "data": {
      "text/plain": "     Make Colour  Odometer (KM)  Doors    Price  Seats\n0  toyota  White         150043      4   400000    5.0\n1   honda    Red          87899      4   500000    5.0\n2  toyota   Blue          32549      3   700000    5.0\n3     bmw  Black          11179      5  2200000    5.0\n4  nissan  White         213095      4   350000    5.0\n5  toyota  Green          99213      4   450000    5.0\n6   honda   Blue          45698      4   750000    5.0\n7   honda   Blue          54738      4   700000    5.0\n8  toyota  White          60000      4   625000    5.0\n9  nissan  White          31600      4   970000    5.0",
      "text/html": "<div>\n<style scoped>\n    .dataframe tbody tr th:only-of-type {\n        vertical-align: middle;\n    }\n\n    .dataframe tbody tr th {\n        vertical-align: top;\n    }\n\n    .dataframe thead th {\n        text-align: right;\n    }\n</style>\n<table border=\"1\" class=\"dataframe\">\n  <thead>\n    <tr style=\"text-align: right;\">\n      <th></th>\n      <th>Make</th>\n      <th>Colour</th>\n      <th>Odometer (KM)</th>\n      <th>Doors</th>\n      <th>Price</th>\n      <th>Seats</th>\n    </tr>\n  </thead>\n  <tbody>\n    <tr>\n      <th>0</th>\n      <td>toyota</td>\n      <td>White</td>\n      <td>150043</td>\n      <td>4</td>\n      <td>400000</td>\n      <td>5.0</td>\n    </tr>\n    <tr>\n      <th>1</th>\n      <td>honda</td>\n      <td>Red</td>\n      <td>87899</td>\n      <td>4</td>\n      <td>500000</td>\n      <td>5.0</td>\n    </tr>\n    <tr>\n      <th>2</th>\n      <td>toyota</td>\n      <td>Blue</td>\n      <td>32549</td>\n      <td>3</td>\n      <td>700000</td>\n      <td>5.0</td>\n    </tr>\n    <tr>\n      <th>3</th>\n      <td>bmw</td>\n      <td>Black</td>\n      <td>11179</td>\n      <td>5</td>\n      <td>2200000</td>\n      <td>5.0</td>\n    </tr>\n    <tr>\n      <th>4</th>\n      <td>nissan</td>\n      <td>White</td>\n      <td>213095</td>\n      <td>4</td>\n      <td>350000</td>\n      <td>5.0</td>\n    </tr>\n    <tr>\n      <th>5</th>\n      <td>toyota</td>\n      <td>Green</td>\n      <td>99213</td>\n      <td>4</td>\n      <td>450000</td>\n      <td>5.0</td>\n    </tr>\n    <tr>\n      <th>6</th>\n      <td>honda</td>\n      <td>Blue</td>\n      <td>45698</td>\n      <td>4</td>\n      <td>750000</td>\n      <td>5.0</td>\n    </tr>\n    <tr>\n      <th>7</th>\n      <td>honda</td>\n      <td>Blue</td>\n      <td>54738</td>\n      <td>4</td>\n      <td>700000</td>\n      <td>5.0</td>\n    </tr>\n    <tr>\n      <th>8</th>\n      <td>toyota</td>\n      <td>White</td>\n      <td>60000</td>\n      <td>4</td>\n      <td>625000</td>\n      <td>5.0</td>\n    </tr>\n    <tr>\n      <th>9</th>\n      <td>nissan</td>\n      <td>White</td>\n      <td>31600</td>\n      <td>4</td>\n      <td>970000</td>\n      <td>5.0</td>\n    </tr>\n  </tbody>\n</table>\n</div>"
     },
     "execution_count": 56,
     "metadata": {},
     "output_type": "execute_result"
    }
   ],
   "source": [
    "# adding values to the NAN values\n",
    "\n",
    "car_sales['Seats'].fillna(5, inplace=True)\n",
    "\n",
    "car_sales"
   ],
   "metadata": {
    "collapsed": false
   }
  },
  {
   "cell_type": "code",
   "execution_count": 57,
   "outputs": [
    {
     "data": {
      "text/plain": "     Make Colour  Odometer (KM)  Doors    Price  Seats  Fuel pet 100KM\n0  toyota  White         150043      4   400000    5.0             7.5\n1   honda    Red          87899      4   500000    5.0             9.3\n2  toyota   Blue          32549      3   700000    5.0             5.0\n3     bmw  Black          11179      5  2200000    5.0             9.4\n4  nissan  White         213095      4   350000    5.0            10.0\n5  toyota  Green          99213      4   450000    5.0            12.0\n6   honda   Blue          45698      4   750000    5.0             3.1\n7   honda   Blue          54738      4   700000    5.0             2.1\n8  toyota  White          60000      4   625000    5.0             4.7\n9  nissan  White          31600      4   970000    5.0             7.2",
      "text/html": "<div>\n<style scoped>\n    .dataframe tbody tr th:only-of-type {\n        vertical-align: middle;\n    }\n\n    .dataframe tbody tr th {\n        vertical-align: top;\n    }\n\n    .dataframe thead th {\n        text-align: right;\n    }\n</style>\n<table border=\"1\" class=\"dataframe\">\n  <thead>\n    <tr style=\"text-align: right;\">\n      <th></th>\n      <th>Make</th>\n      <th>Colour</th>\n      <th>Odometer (KM)</th>\n      <th>Doors</th>\n      <th>Price</th>\n      <th>Seats</th>\n      <th>Fuel pet 100KM</th>\n    </tr>\n  </thead>\n  <tbody>\n    <tr>\n      <th>0</th>\n      <td>toyota</td>\n      <td>White</td>\n      <td>150043</td>\n      <td>4</td>\n      <td>400000</td>\n      <td>5.0</td>\n      <td>7.5</td>\n    </tr>\n    <tr>\n      <th>1</th>\n      <td>honda</td>\n      <td>Red</td>\n      <td>87899</td>\n      <td>4</td>\n      <td>500000</td>\n      <td>5.0</td>\n      <td>9.3</td>\n    </tr>\n    <tr>\n      <th>2</th>\n      <td>toyota</td>\n      <td>Blue</td>\n      <td>32549</td>\n      <td>3</td>\n      <td>700000</td>\n      <td>5.0</td>\n      <td>5.0</td>\n    </tr>\n    <tr>\n      <th>3</th>\n      <td>bmw</td>\n      <td>Black</td>\n      <td>11179</td>\n      <td>5</td>\n      <td>2200000</td>\n      <td>5.0</td>\n      <td>9.4</td>\n    </tr>\n    <tr>\n      <th>4</th>\n      <td>nissan</td>\n      <td>White</td>\n      <td>213095</td>\n      <td>4</td>\n      <td>350000</td>\n      <td>5.0</td>\n      <td>10.0</td>\n    </tr>\n    <tr>\n      <th>5</th>\n      <td>toyota</td>\n      <td>Green</td>\n      <td>99213</td>\n      <td>4</td>\n      <td>450000</td>\n      <td>5.0</td>\n      <td>12.0</td>\n    </tr>\n    <tr>\n      <th>6</th>\n      <td>honda</td>\n      <td>Blue</td>\n      <td>45698</td>\n      <td>4</td>\n      <td>750000</td>\n      <td>5.0</td>\n      <td>3.1</td>\n    </tr>\n    <tr>\n      <th>7</th>\n      <td>honda</td>\n      <td>Blue</td>\n      <td>54738</td>\n      <td>4</td>\n      <td>700000</td>\n      <td>5.0</td>\n      <td>2.1</td>\n    </tr>\n    <tr>\n      <th>8</th>\n      <td>toyota</td>\n      <td>White</td>\n      <td>60000</td>\n      <td>4</td>\n      <td>625000</td>\n      <td>5.0</td>\n      <td>4.7</td>\n    </tr>\n    <tr>\n      <th>9</th>\n      <td>nissan</td>\n      <td>White</td>\n      <td>31600</td>\n      <td>4</td>\n      <td>970000</td>\n      <td>5.0</td>\n      <td>7.2</td>\n    </tr>\n  </tbody>\n</table>\n</div>"
     },
     "execution_count": 57,
     "metadata": {},
     "output_type": "execute_result"
    }
   ],
   "source": [
    "# column from python list\n",
    "\n",
    "fuel_economy = [7.5, 9.3, 5.0, 9.4, 10, 12, 3.1, 2.1, 4.7, 7.2]\n",
    "\n",
    "car_sales[\"Fuel pet 100KM\"] = fuel_economy\n",
    "\n",
    "car_sales\n",
    "\n",
    "# while creating columns with list we need to match the index in our dataset or we get error!!!"
   ],
   "metadata": {
    "collapsed": false
   }
  },
  {
   "cell_type": "code",
   "execution_count": 62,
   "outputs": [
    {
     "data": {
      "text/plain": "     Make Colour  Odometer (KM)  Doors    Price  Seats  Fuel pet 100KM  \\\n0  toyota  White         150043      4   400000    5.0             7.5   \n1   honda    Red          87899      4   500000    5.0             9.3   \n2  toyota   Blue          32549      3   700000    5.0             5.0   \n3     bmw  Black          11179      5  2200000    5.0             9.4   \n4  nissan  White         213095      4   350000    5.0            10.0   \n5  toyota  Green          99213      4   450000    5.0            12.0   \n6   honda   Blue          45698      4   750000    5.0             3.1   \n7   honda   Blue          54738      4   700000    5.0             2.1   \n8  toyota  White          60000      4   625000    5.0             4.7   \n9  nissan  White          31600      4   970000    5.0             7.2   \n\n   Total fuel used (L)  Number of Wheels  Passed Road Safety  Total fuel used   \n0            11253.225                 4                True         11253.225  \n1             8174.607                 4                True          8174.607  \n2             1627.450                 4                True          1627.450  \n3             1050.826                 4                True          1050.826  \n4            21309.500                 4                True         21309.500  \n5            11905.560                 4                True         11905.560  \n6             1416.638                 4                True          1416.638  \n7             1149.498                 4                True          1149.498  \n8             2820.000                 4                True          2820.000  \n9             2275.200                 4                True          2275.200  ",
      "text/html": "<div>\n<style scoped>\n    .dataframe tbody tr th:only-of-type {\n        vertical-align: middle;\n    }\n\n    .dataframe tbody tr th {\n        vertical-align: top;\n    }\n\n    .dataframe thead th {\n        text-align: right;\n    }\n</style>\n<table border=\"1\" class=\"dataframe\">\n  <thead>\n    <tr style=\"text-align: right;\">\n      <th></th>\n      <th>Make</th>\n      <th>Colour</th>\n      <th>Odometer (KM)</th>\n      <th>Doors</th>\n      <th>Price</th>\n      <th>Seats</th>\n      <th>Fuel pet 100KM</th>\n      <th>Total fuel used (L)</th>\n      <th>Number of Wheels</th>\n      <th>Passed Road Safety</th>\n      <th>Total fuel used</th>\n    </tr>\n  </thead>\n  <tbody>\n    <tr>\n      <th>0</th>\n      <td>toyota</td>\n      <td>White</td>\n      <td>150043</td>\n      <td>4</td>\n      <td>400000</td>\n      <td>5.0</td>\n      <td>7.5</td>\n      <td>11253.225</td>\n      <td>4</td>\n      <td>True</td>\n      <td>11253.225</td>\n    </tr>\n    <tr>\n      <th>1</th>\n      <td>honda</td>\n      <td>Red</td>\n      <td>87899</td>\n      <td>4</td>\n      <td>500000</td>\n      <td>5.0</td>\n      <td>9.3</td>\n      <td>8174.607</td>\n      <td>4</td>\n      <td>True</td>\n      <td>8174.607</td>\n    </tr>\n    <tr>\n      <th>2</th>\n      <td>toyota</td>\n      <td>Blue</td>\n      <td>32549</td>\n      <td>3</td>\n      <td>700000</td>\n      <td>5.0</td>\n      <td>5.0</td>\n      <td>1627.450</td>\n      <td>4</td>\n      <td>True</td>\n      <td>1627.450</td>\n    </tr>\n    <tr>\n      <th>3</th>\n      <td>bmw</td>\n      <td>Black</td>\n      <td>11179</td>\n      <td>5</td>\n      <td>2200000</td>\n      <td>5.0</td>\n      <td>9.4</td>\n      <td>1050.826</td>\n      <td>4</td>\n      <td>True</td>\n      <td>1050.826</td>\n    </tr>\n    <tr>\n      <th>4</th>\n      <td>nissan</td>\n      <td>White</td>\n      <td>213095</td>\n      <td>4</td>\n      <td>350000</td>\n      <td>5.0</td>\n      <td>10.0</td>\n      <td>21309.500</td>\n      <td>4</td>\n      <td>True</td>\n      <td>21309.500</td>\n    </tr>\n    <tr>\n      <th>5</th>\n      <td>toyota</td>\n      <td>Green</td>\n      <td>99213</td>\n      <td>4</td>\n      <td>450000</td>\n      <td>5.0</td>\n      <td>12.0</td>\n      <td>11905.560</td>\n      <td>4</td>\n      <td>True</td>\n      <td>11905.560</td>\n    </tr>\n    <tr>\n      <th>6</th>\n      <td>honda</td>\n      <td>Blue</td>\n      <td>45698</td>\n      <td>4</td>\n      <td>750000</td>\n      <td>5.0</td>\n      <td>3.1</td>\n      <td>1416.638</td>\n      <td>4</td>\n      <td>True</td>\n      <td>1416.638</td>\n    </tr>\n    <tr>\n      <th>7</th>\n      <td>honda</td>\n      <td>Blue</td>\n      <td>54738</td>\n      <td>4</td>\n      <td>700000</td>\n      <td>5.0</td>\n      <td>2.1</td>\n      <td>1149.498</td>\n      <td>4</td>\n      <td>True</td>\n      <td>1149.498</td>\n    </tr>\n    <tr>\n      <th>8</th>\n      <td>toyota</td>\n      <td>White</td>\n      <td>60000</td>\n      <td>4</td>\n      <td>625000</td>\n      <td>5.0</td>\n      <td>4.7</td>\n      <td>2820.000</td>\n      <td>4</td>\n      <td>True</td>\n      <td>2820.000</td>\n    </tr>\n    <tr>\n      <th>9</th>\n      <td>nissan</td>\n      <td>White</td>\n      <td>31600</td>\n      <td>4</td>\n      <td>970000</td>\n      <td>5.0</td>\n      <td>7.2</td>\n      <td>2275.200</td>\n      <td>4</td>\n      <td>True</td>\n      <td>2275.200</td>\n    </tr>\n  </tbody>\n</table>\n</div>"
     },
     "execution_count": 62,
     "metadata": {},
     "output_type": "execute_result"
    }
   ],
   "source": [
    "car_sales[\"Total fuel used \"] = car_sales[\"Odometer (KM)\"]/100 * car_sales[\"Fuel pet 100KM\"]\n",
    "\n",
    "car_sales"
   ],
   "metadata": {
    "collapsed": false
   }
  },
  {
   "cell_type": "code",
   "execution_count": 64,
   "outputs": [
    {
     "data": {
      "text/plain": "     Make Colour  Odometer (KM)  Doors    Price  Seats  Fuel pet 100KM  \\\n0  toyota  White         150043      4   400000    5.0             7.5   \n1   honda    Red          87899      4   500000    5.0             9.3   \n2  toyota   Blue          32549      3   700000    5.0             5.0   \n3     bmw  Black          11179      5  2200000    5.0             9.4   \n4  nissan  White         213095      4   350000    5.0            10.0   \n5  toyota  Green          99213      4   450000    5.0            12.0   \n6   honda   Blue          45698      4   750000    5.0             3.1   \n7   honda   Blue          54738      4   700000    5.0             2.1   \n8  toyota  White          60000      4   625000    5.0             4.7   \n9  nissan  White          31600      4   970000    5.0             7.2   \n\n   Total fuel used (L)  Number of Wheels  Passed Road Safety  Total fuel used   \n0            11253.225                 4                True         11253.225  \n1             8174.607                 4                True          8174.607  \n2             1627.450                 4                True          1627.450  \n3             1050.826                 4                True          1050.826  \n4            21309.500                 4                True         21309.500  \n5            11905.560                 4                True         11905.560  \n6             1416.638                 4                True          1416.638  \n7             1149.498                 4                True          1149.498  \n8             2820.000                 4                True          2820.000  \n9             2275.200                 4                True          2275.200  ",
      "text/html": "<div>\n<style scoped>\n    .dataframe tbody tr th:only-of-type {\n        vertical-align: middle;\n    }\n\n    .dataframe tbody tr th {\n        vertical-align: top;\n    }\n\n    .dataframe thead th {\n        text-align: right;\n    }\n</style>\n<table border=\"1\" class=\"dataframe\">\n  <thead>\n    <tr style=\"text-align: right;\">\n      <th></th>\n      <th>Make</th>\n      <th>Colour</th>\n      <th>Odometer (KM)</th>\n      <th>Doors</th>\n      <th>Price</th>\n      <th>Seats</th>\n      <th>Fuel pet 100KM</th>\n      <th>Total fuel used (L)</th>\n      <th>Number of Wheels</th>\n      <th>Passed Road Safety</th>\n      <th>Total fuel used</th>\n    </tr>\n  </thead>\n  <tbody>\n    <tr>\n      <th>0</th>\n      <td>toyota</td>\n      <td>White</td>\n      <td>150043</td>\n      <td>4</td>\n      <td>400000</td>\n      <td>5.0</td>\n      <td>7.5</td>\n      <td>11253.225</td>\n      <td>4</td>\n      <td>True</td>\n      <td>11253.225</td>\n    </tr>\n    <tr>\n      <th>1</th>\n      <td>honda</td>\n      <td>Red</td>\n      <td>87899</td>\n      <td>4</td>\n      <td>500000</td>\n      <td>5.0</td>\n      <td>9.3</td>\n      <td>8174.607</td>\n      <td>4</td>\n      <td>True</td>\n      <td>8174.607</td>\n    </tr>\n    <tr>\n      <th>2</th>\n      <td>toyota</td>\n      <td>Blue</td>\n      <td>32549</td>\n      <td>3</td>\n      <td>700000</td>\n      <td>5.0</td>\n      <td>5.0</td>\n      <td>1627.450</td>\n      <td>4</td>\n      <td>True</td>\n      <td>1627.450</td>\n    </tr>\n    <tr>\n      <th>3</th>\n      <td>bmw</td>\n      <td>Black</td>\n      <td>11179</td>\n      <td>5</td>\n      <td>2200000</td>\n      <td>5.0</td>\n      <td>9.4</td>\n      <td>1050.826</td>\n      <td>4</td>\n      <td>True</td>\n      <td>1050.826</td>\n    </tr>\n    <tr>\n      <th>4</th>\n      <td>nissan</td>\n      <td>White</td>\n      <td>213095</td>\n      <td>4</td>\n      <td>350000</td>\n      <td>5.0</td>\n      <td>10.0</td>\n      <td>21309.500</td>\n      <td>4</td>\n      <td>True</td>\n      <td>21309.500</td>\n    </tr>\n    <tr>\n      <th>5</th>\n      <td>toyota</td>\n      <td>Green</td>\n      <td>99213</td>\n      <td>4</td>\n      <td>450000</td>\n      <td>5.0</td>\n      <td>12.0</td>\n      <td>11905.560</td>\n      <td>4</td>\n      <td>True</td>\n      <td>11905.560</td>\n    </tr>\n    <tr>\n      <th>6</th>\n      <td>honda</td>\n      <td>Blue</td>\n      <td>45698</td>\n      <td>4</td>\n      <td>750000</td>\n      <td>5.0</td>\n      <td>3.1</td>\n      <td>1416.638</td>\n      <td>4</td>\n      <td>True</td>\n      <td>1416.638</td>\n    </tr>\n    <tr>\n      <th>7</th>\n      <td>honda</td>\n      <td>Blue</td>\n      <td>54738</td>\n      <td>4</td>\n      <td>700000</td>\n      <td>5.0</td>\n      <td>2.1</td>\n      <td>1149.498</td>\n      <td>4</td>\n      <td>True</td>\n      <td>1149.498</td>\n    </tr>\n    <tr>\n      <th>8</th>\n      <td>toyota</td>\n      <td>White</td>\n      <td>60000</td>\n      <td>4</td>\n      <td>625000</td>\n      <td>5.0</td>\n      <td>4.7</td>\n      <td>2820.000</td>\n      <td>4</td>\n      <td>True</td>\n      <td>2820.000</td>\n    </tr>\n    <tr>\n      <th>9</th>\n      <td>nissan</td>\n      <td>White</td>\n      <td>31600</td>\n      <td>4</td>\n      <td>970000</td>\n      <td>5.0</td>\n      <td>7.2</td>\n      <td>2275.200</td>\n      <td>4</td>\n      <td>True</td>\n      <td>2275.200</td>\n    </tr>\n  </tbody>\n</table>\n</div>"
     },
     "execution_count": 64,
     "metadata": {},
     "output_type": "execute_result"
    }
   ],
   "source": [
    "# Create a column from a single value\n",
    "car_sales['Number of Wheels'] = 4\n",
    "\n",
    "car_sales"
   ],
   "metadata": {
    "collapsed": false
   }
  },
  {
   "cell_type": "code",
   "execution_count": 65,
   "outputs": [
    {
     "data": {
      "text/plain": "     Make Colour  Odometer (KM)  Doors    Price  Seats  Fuel pet 100KM  \\\n0  toyota  White         150043      4   400000    5.0             7.5   \n1   honda    Red          87899      4   500000    5.0             9.3   \n2  toyota   Blue          32549      3   700000    5.0             5.0   \n3     bmw  Black          11179      5  2200000    5.0             9.4   \n4  nissan  White         213095      4   350000    5.0            10.0   \n5  toyota  Green          99213      4   450000    5.0            12.0   \n6   honda   Blue          45698      4   750000    5.0             3.1   \n7   honda   Blue          54738      4   700000    5.0             2.1   \n8  toyota  White          60000      4   625000    5.0             4.7   \n9  nissan  White          31600      4   970000    5.0             7.2   \n\n   Total fuel used (L)  Number of Wheels  Passed Road Safety  Total fuel used   \n0            11253.225                 4                True         11253.225  \n1             8174.607                 4                True          8174.607  \n2             1627.450                 4                True          1627.450  \n3             1050.826                 4                True          1050.826  \n4            21309.500                 4                True         21309.500  \n5            11905.560                 4                True         11905.560  \n6             1416.638                 4                True          1416.638  \n7             1149.498                 4                True          1149.498  \n8             2820.000                 4                True          2820.000  \n9             2275.200                 4                True          2275.200  ",
      "text/html": "<div>\n<style scoped>\n    .dataframe tbody tr th:only-of-type {\n        vertical-align: middle;\n    }\n\n    .dataframe tbody tr th {\n        vertical-align: top;\n    }\n\n    .dataframe thead th {\n        text-align: right;\n    }\n</style>\n<table border=\"1\" class=\"dataframe\">\n  <thead>\n    <tr style=\"text-align: right;\">\n      <th></th>\n      <th>Make</th>\n      <th>Colour</th>\n      <th>Odometer (KM)</th>\n      <th>Doors</th>\n      <th>Price</th>\n      <th>Seats</th>\n      <th>Fuel pet 100KM</th>\n      <th>Total fuel used (L)</th>\n      <th>Number of Wheels</th>\n      <th>Passed Road Safety</th>\n      <th>Total fuel used</th>\n    </tr>\n  </thead>\n  <tbody>\n    <tr>\n      <th>0</th>\n      <td>toyota</td>\n      <td>White</td>\n      <td>150043</td>\n      <td>4</td>\n      <td>400000</td>\n      <td>5.0</td>\n      <td>7.5</td>\n      <td>11253.225</td>\n      <td>4</td>\n      <td>True</td>\n      <td>11253.225</td>\n    </tr>\n    <tr>\n      <th>1</th>\n      <td>honda</td>\n      <td>Red</td>\n      <td>87899</td>\n      <td>4</td>\n      <td>500000</td>\n      <td>5.0</td>\n      <td>9.3</td>\n      <td>8174.607</td>\n      <td>4</td>\n      <td>True</td>\n      <td>8174.607</td>\n    </tr>\n    <tr>\n      <th>2</th>\n      <td>toyota</td>\n      <td>Blue</td>\n      <td>32549</td>\n      <td>3</td>\n      <td>700000</td>\n      <td>5.0</td>\n      <td>5.0</td>\n      <td>1627.450</td>\n      <td>4</td>\n      <td>True</td>\n      <td>1627.450</td>\n    </tr>\n    <tr>\n      <th>3</th>\n      <td>bmw</td>\n      <td>Black</td>\n      <td>11179</td>\n      <td>5</td>\n      <td>2200000</td>\n      <td>5.0</td>\n      <td>9.4</td>\n      <td>1050.826</td>\n      <td>4</td>\n      <td>True</td>\n      <td>1050.826</td>\n    </tr>\n    <tr>\n      <th>4</th>\n      <td>nissan</td>\n      <td>White</td>\n      <td>213095</td>\n      <td>4</td>\n      <td>350000</td>\n      <td>5.0</td>\n      <td>10.0</td>\n      <td>21309.500</td>\n      <td>4</td>\n      <td>True</td>\n      <td>21309.500</td>\n    </tr>\n    <tr>\n      <th>5</th>\n      <td>toyota</td>\n      <td>Green</td>\n      <td>99213</td>\n      <td>4</td>\n      <td>450000</td>\n      <td>5.0</td>\n      <td>12.0</td>\n      <td>11905.560</td>\n      <td>4</td>\n      <td>True</td>\n      <td>11905.560</td>\n    </tr>\n    <tr>\n      <th>6</th>\n      <td>honda</td>\n      <td>Blue</td>\n      <td>45698</td>\n      <td>4</td>\n      <td>750000</td>\n      <td>5.0</td>\n      <td>3.1</td>\n      <td>1416.638</td>\n      <td>4</td>\n      <td>True</td>\n      <td>1416.638</td>\n    </tr>\n    <tr>\n      <th>7</th>\n      <td>honda</td>\n      <td>Blue</td>\n      <td>54738</td>\n      <td>4</td>\n      <td>700000</td>\n      <td>5.0</td>\n      <td>2.1</td>\n      <td>1149.498</td>\n      <td>4</td>\n      <td>True</td>\n      <td>1149.498</td>\n    </tr>\n    <tr>\n      <th>8</th>\n      <td>toyota</td>\n      <td>White</td>\n      <td>60000</td>\n      <td>4</td>\n      <td>625000</td>\n      <td>5.0</td>\n      <td>4.7</td>\n      <td>2820.000</td>\n      <td>4</td>\n      <td>True</td>\n      <td>2820.000</td>\n    </tr>\n    <tr>\n      <th>9</th>\n      <td>nissan</td>\n      <td>White</td>\n      <td>31600</td>\n      <td>4</td>\n      <td>970000</td>\n      <td>5.0</td>\n      <td>7.2</td>\n      <td>2275.200</td>\n      <td>4</td>\n      <td>True</td>\n      <td>2275.200</td>\n    </tr>\n  </tbody>\n</table>\n</div>"
     },
     "execution_count": 65,
     "metadata": {},
     "output_type": "execute_result"
    }
   ],
   "source": [
    "car_sales[\"Passed Road Safety\"] = True\n",
    "car_sales"
   ],
   "metadata": {
    "collapsed": false
   }
  },
  {
   "cell_type": "code",
   "execution_count": 66,
   "outputs": [],
   "source": [
    "# dropping a column\n",
    "\n",
    "car_sales.drop(\"Total fuel used \", axis=1, inplace=True)"
   ],
   "metadata": {
    "collapsed": false
   }
  },
  {
   "cell_type": "code",
   "execution_count": 67,
   "outputs": [
    {
     "data": {
      "text/plain": "     Make Colour  Odometer (KM)  Doors    Price  Seats  Fuel pet 100KM  \\\n0  toyota  White         150043      4   400000    5.0             7.5   \n1   honda    Red          87899      4   500000    5.0             9.3   \n2  toyota   Blue          32549      3   700000    5.0             5.0   \n3     bmw  Black          11179      5  2200000    5.0             9.4   \n4  nissan  White         213095      4   350000    5.0            10.0   \n5  toyota  Green          99213      4   450000    5.0            12.0   \n6   honda   Blue          45698      4   750000    5.0             3.1   \n7   honda   Blue          54738      4   700000    5.0             2.1   \n8  toyota  White          60000      4   625000    5.0             4.7   \n9  nissan  White          31600      4   970000    5.0             7.2   \n\n   Total fuel used (L)  Number of Wheels  Passed Road Safety  \n0            11253.225                 4                True  \n1             8174.607                 4                True  \n2             1627.450                 4                True  \n3             1050.826                 4                True  \n4            21309.500                 4                True  \n5            11905.560                 4                True  \n6             1416.638                 4                True  \n7             1149.498                 4                True  \n8             2820.000                 4                True  \n9             2275.200                 4                True  ",
      "text/html": "<div>\n<style scoped>\n    .dataframe tbody tr th:only-of-type {\n        vertical-align: middle;\n    }\n\n    .dataframe tbody tr th {\n        vertical-align: top;\n    }\n\n    .dataframe thead th {\n        text-align: right;\n    }\n</style>\n<table border=\"1\" class=\"dataframe\">\n  <thead>\n    <tr style=\"text-align: right;\">\n      <th></th>\n      <th>Make</th>\n      <th>Colour</th>\n      <th>Odometer (KM)</th>\n      <th>Doors</th>\n      <th>Price</th>\n      <th>Seats</th>\n      <th>Fuel pet 100KM</th>\n      <th>Total fuel used (L)</th>\n      <th>Number of Wheels</th>\n      <th>Passed Road Safety</th>\n    </tr>\n  </thead>\n  <tbody>\n    <tr>\n      <th>0</th>\n      <td>toyota</td>\n      <td>White</td>\n      <td>150043</td>\n      <td>4</td>\n      <td>400000</td>\n      <td>5.0</td>\n      <td>7.5</td>\n      <td>11253.225</td>\n      <td>4</td>\n      <td>True</td>\n    </tr>\n    <tr>\n      <th>1</th>\n      <td>honda</td>\n      <td>Red</td>\n      <td>87899</td>\n      <td>4</td>\n      <td>500000</td>\n      <td>5.0</td>\n      <td>9.3</td>\n      <td>8174.607</td>\n      <td>4</td>\n      <td>True</td>\n    </tr>\n    <tr>\n      <th>2</th>\n      <td>toyota</td>\n      <td>Blue</td>\n      <td>32549</td>\n      <td>3</td>\n      <td>700000</td>\n      <td>5.0</td>\n      <td>5.0</td>\n      <td>1627.450</td>\n      <td>4</td>\n      <td>True</td>\n    </tr>\n    <tr>\n      <th>3</th>\n      <td>bmw</td>\n      <td>Black</td>\n      <td>11179</td>\n      <td>5</td>\n      <td>2200000</td>\n      <td>5.0</td>\n      <td>9.4</td>\n      <td>1050.826</td>\n      <td>4</td>\n      <td>True</td>\n    </tr>\n    <tr>\n      <th>4</th>\n      <td>nissan</td>\n      <td>White</td>\n      <td>213095</td>\n      <td>4</td>\n      <td>350000</td>\n      <td>5.0</td>\n      <td>10.0</td>\n      <td>21309.500</td>\n      <td>4</td>\n      <td>True</td>\n    </tr>\n    <tr>\n      <th>5</th>\n      <td>toyota</td>\n      <td>Green</td>\n      <td>99213</td>\n      <td>4</td>\n      <td>450000</td>\n      <td>5.0</td>\n      <td>12.0</td>\n      <td>11905.560</td>\n      <td>4</td>\n      <td>True</td>\n    </tr>\n    <tr>\n      <th>6</th>\n      <td>honda</td>\n      <td>Blue</td>\n      <td>45698</td>\n      <td>4</td>\n      <td>750000</td>\n      <td>5.0</td>\n      <td>3.1</td>\n      <td>1416.638</td>\n      <td>4</td>\n      <td>True</td>\n    </tr>\n    <tr>\n      <th>7</th>\n      <td>honda</td>\n      <td>Blue</td>\n      <td>54738</td>\n      <td>4</td>\n      <td>700000</td>\n      <td>5.0</td>\n      <td>2.1</td>\n      <td>1149.498</td>\n      <td>4</td>\n      <td>True</td>\n    </tr>\n    <tr>\n      <th>8</th>\n      <td>toyota</td>\n      <td>White</td>\n      <td>60000</td>\n      <td>4</td>\n      <td>625000</td>\n      <td>5.0</td>\n      <td>4.7</td>\n      <td>2820.000</td>\n      <td>4</td>\n      <td>True</td>\n    </tr>\n    <tr>\n      <th>9</th>\n      <td>nissan</td>\n      <td>White</td>\n      <td>31600</td>\n      <td>4</td>\n      <td>970000</td>\n      <td>5.0</td>\n      <td>7.2</td>\n      <td>2275.200</td>\n      <td>4</td>\n      <td>True</td>\n    </tr>\n  </tbody>\n</table>\n</div>"
     },
     "execution_count": 67,
     "metadata": {},
     "output_type": "execute_result"
    }
   ],
   "source": [
    "car_sales"
   ],
   "metadata": {
    "collapsed": false
   }
  },
  {
   "cell_type": "markdown",
   "source": [
    "## Shuffle rows in a dataset"
   ],
   "metadata": {
    "collapsed": false
   }
  },
  {
   "cell_type": "code",
   "execution_count": 68,
   "outputs": [
    {
     "data": {
      "text/plain": "     Make Colour  Odometer (KM)  Doors    Price  Seats  Fuel pet 100KM  \\\n8  toyota  White          60000      4   625000    5.0             4.7   \n3     bmw  Black          11179      5  2200000    5.0             9.4   \n1   honda    Red          87899      4   500000    5.0             9.3   \n2  toyota   Blue          32549      3   700000    5.0             5.0   \n7   honda   Blue          54738      4   700000    5.0             2.1   \n\n   Total fuel used (L)  Number of Wheels  Passed Road Safety  \n8             2820.000                 4                True  \n3             1050.826                 4                True  \n1             8174.607                 4                True  \n2             1627.450                 4                True  \n7             1149.498                 4                True  ",
      "text/html": "<div>\n<style scoped>\n    .dataframe tbody tr th:only-of-type {\n        vertical-align: middle;\n    }\n\n    .dataframe tbody tr th {\n        vertical-align: top;\n    }\n\n    .dataframe thead th {\n        text-align: right;\n    }\n</style>\n<table border=\"1\" class=\"dataframe\">\n  <thead>\n    <tr style=\"text-align: right;\">\n      <th></th>\n      <th>Make</th>\n      <th>Colour</th>\n      <th>Odometer (KM)</th>\n      <th>Doors</th>\n      <th>Price</th>\n      <th>Seats</th>\n      <th>Fuel pet 100KM</th>\n      <th>Total fuel used (L)</th>\n      <th>Number of Wheels</th>\n      <th>Passed Road Safety</th>\n    </tr>\n  </thead>\n  <tbody>\n    <tr>\n      <th>8</th>\n      <td>toyota</td>\n      <td>White</td>\n      <td>60000</td>\n      <td>4</td>\n      <td>625000</td>\n      <td>5.0</td>\n      <td>4.7</td>\n      <td>2820.000</td>\n      <td>4</td>\n      <td>True</td>\n    </tr>\n    <tr>\n      <th>3</th>\n      <td>bmw</td>\n      <td>Black</td>\n      <td>11179</td>\n      <td>5</td>\n      <td>2200000</td>\n      <td>5.0</td>\n      <td>9.4</td>\n      <td>1050.826</td>\n      <td>4</td>\n      <td>True</td>\n    </tr>\n    <tr>\n      <th>1</th>\n      <td>honda</td>\n      <td>Red</td>\n      <td>87899</td>\n      <td>4</td>\n      <td>500000</td>\n      <td>5.0</td>\n      <td>9.3</td>\n      <td>8174.607</td>\n      <td>4</td>\n      <td>True</td>\n    </tr>\n    <tr>\n      <th>2</th>\n      <td>toyota</td>\n      <td>Blue</td>\n      <td>32549</td>\n      <td>3</td>\n      <td>700000</td>\n      <td>5.0</td>\n      <td>5.0</td>\n      <td>1627.450</td>\n      <td>4</td>\n      <td>True</td>\n    </tr>\n    <tr>\n      <th>7</th>\n      <td>honda</td>\n      <td>Blue</td>\n      <td>54738</td>\n      <td>4</td>\n      <td>700000</td>\n      <td>5.0</td>\n      <td>2.1</td>\n      <td>1149.498</td>\n      <td>4</td>\n      <td>True</td>\n    </tr>\n  </tbody>\n</table>\n</div>"
     },
     "execution_count": 68,
     "metadata": {},
     "output_type": "execute_result"
    }
   ],
   "source": [
    "car_sales.sample(frac = 0.5)"
   ],
   "metadata": {
    "collapsed": false
   }
  },
  {
   "cell_type": "code",
   "execution_count": 69,
   "outputs": [
    {
     "data": {
      "text/plain": "     Make Colour  Odometer (KM)  Doors    Price  Seats  Fuel pet 100KM  \\\n9  nissan  White          31600      4   970000    5.0             7.2   \n8  toyota  White          60000      4   625000    5.0             4.7   \n7   honda   Blue          54738      4   700000    5.0             2.1   \n3     bmw  Black          11179      5  2200000    5.0             9.4   \n5  toyota  Green          99213      4   450000    5.0            12.0   \n4  nissan  White         213095      4   350000    5.0            10.0   \n0  toyota  White         150043      4   400000    5.0             7.5   \n6   honda   Blue          45698      4   750000    5.0             3.1   \n2  toyota   Blue          32549      3   700000    5.0             5.0   \n1   honda    Red          87899      4   500000    5.0             9.3   \n\n   Total fuel used (L)  Number of Wheels  Passed Road Safety  \n9             2275.200                 4                True  \n8             2820.000                 4                True  \n7             1149.498                 4                True  \n3             1050.826                 4                True  \n5            11905.560                 4                True  \n4            21309.500                 4                True  \n0            11253.225                 4                True  \n6             1416.638                 4                True  \n2             1627.450                 4                True  \n1             8174.607                 4                True  ",
      "text/html": "<div>\n<style scoped>\n    .dataframe tbody tr th:only-of-type {\n        vertical-align: middle;\n    }\n\n    .dataframe tbody tr th {\n        vertical-align: top;\n    }\n\n    .dataframe thead th {\n        text-align: right;\n    }\n</style>\n<table border=\"1\" class=\"dataframe\">\n  <thead>\n    <tr style=\"text-align: right;\">\n      <th></th>\n      <th>Make</th>\n      <th>Colour</th>\n      <th>Odometer (KM)</th>\n      <th>Doors</th>\n      <th>Price</th>\n      <th>Seats</th>\n      <th>Fuel pet 100KM</th>\n      <th>Total fuel used (L)</th>\n      <th>Number of Wheels</th>\n      <th>Passed Road Safety</th>\n    </tr>\n  </thead>\n  <tbody>\n    <tr>\n      <th>9</th>\n      <td>nissan</td>\n      <td>White</td>\n      <td>31600</td>\n      <td>4</td>\n      <td>970000</td>\n      <td>5.0</td>\n      <td>7.2</td>\n      <td>2275.200</td>\n      <td>4</td>\n      <td>True</td>\n    </tr>\n    <tr>\n      <th>8</th>\n      <td>toyota</td>\n      <td>White</td>\n      <td>60000</td>\n      <td>4</td>\n      <td>625000</td>\n      <td>5.0</td>\n      <td>4.7</td>\n      <td>2820.000</td>\n      <td>4</td>\n      <td>True</td>\n    </tr>\n    <tr>\n      <th>7</th>\n      <td>honda</td>\n      <td>Blue</td>\n      <td>54738</td>\n      <td>4</td>\n      <td>700000</td>\n      <td>5.0</td>\n      <td>2.1</td>\n      <td>1149.498</td>\n      <td>4</td>\n      <td>True</td>\n    </tr>\n    <tr>\n      <th>3</th>\n      <td>bmw</td>\n      <td>Black</td>\n      <td>11179</td>\n      <td>5</td>\n      <td>2200000</td>\n      <td>5.0</td>\n      <td>9.4</td>\n      <td>1050.826</td>\n      <td>4</td>\n      <td>True</td>\n    </tr>\n    <tr>\n      <th>5</th>\n      <td>toyota</td>\n      <td>Green</td>\n      <td>99213</td>\n      <td>4</td>\n      <td>450000</td>\n      <td>5.0</td>\n      <td>12.0</td>\n      <td>11905.560</td>\n      <td>4</td>\n      <td>True</td>\n    </tr>\n    <tr>\n      <th>4</th>\n      <td>nissan</td>\n      <td>White</td>\n      <td>213095</td>\n      <td>4</td>\n      <td>350000</td>\n      <td>5.0</td>\n      <td>10.0</td>\n      <td>21309.500</td>\n      <td>4</td>\n      <td>True</td>\n    </tr>\n    <tr>\n      <th>0</th>\n      <td>toyota</td>\n      <td>White</td>\n      <td>150043</td>\n      <td>4</td>\n      <td>400000</td>\n      <td>5.0</td>\n      <td>7.5</td>\n      <td>11253.225</td>\n      <td>4</td>\n      <td>True</td>\n    </tr>\n    <tr>\n      <th>6</th>\n      <td>honda</td>\n      <td>Blue</td>\n      <td>45698</td>\n      <td>4</td>\n      <td>750000</td>\n      <td>5.0</td>\n      <td>3.1</td>\n      <td>1416.638</td>\n      <td>4</td>\n      <td>True</td>\n    </tr>\n    <tr>\n      <th>2</th>\n      <td>toyota</td>\n      <td>Blue</td>\n      <td>32549</td>\n      <td>3</td>\n      <td>700000</td>\n      <td>5.0</td>\n      <td>5.0</td>\n      <td>1627.450</td>\n      <td>4</td>\n      <td>True</td>\n    </tr>\n    <tr>\n      <th>1</th>\n      <td>honda</td>\n      <td>Red</td>\n      <td>87899</td>\n      <td>4</td>\n      <td>500000</td>\n      <td>5.0</td>\n      <td>9.3</td>\n      <td>8174.607</td>\n      <td>4</td>\n      <td>True</td>\n    </tr>\n  </tbody>\n</table>\n</div>"
     },
     "execution_count": 69,
     "metadata": {},
     "output_type": "execute_result"
    }
   ],
   "source": [
    "car_sales.sample(frac = 1)\n",
    "\n",
    "# same dataframe but indexes are shuffled\n",
    "# rows remain the same!"
   ],
   "metadata": {
    "collapsed": false
   }
  },
  {
   "cell_type": "code",
   "execution_count": 70,
   "outputs": [],
   "source": [
    "# reassign the dataset\n",
    "\n",
    "car_sales_shuffled = car_sales.sample(frac = 1)"
   ],
   "metadata": {
    "collapsed": false
   }
  },
  {
   "cell_type": "code",
   "execution_count": 71,
   "outputs": [
    {
     "data": {
      "text/plain": "     Make Colour  Odometer (KM)  Doors    Price  Seats  Fuel pet 100KM  \\\n3     bmw  Black          11179      5  2200000    5.0             9.4   \n6   honda   Blue          45698      4   750000    5.0             3.1   \n8  toyota  White          60000      4   625000    5.0             4.7   \n1   honda    Red          87899      4   500000    5.0             9.3   \n5  toyota  Green          99213      4   450000    5.0            12.0   \n9  nissan  White          31600      4   970000    5.0             7.2   \n2  toyota   Blue          32549      3   700000    5.0             5.0   \n0  toyota  White         150043      4   400000    5.0             7.5   \n4  nissan  White         213095      4   350000    5.0            10.0   \n7   honda   Blue          54738      4   700000    5.0             2.1   \n\n   Total fuel used (L)  Number of Wheels  Passed Road Safety  \n3             1050.826                 4                True  \n6             1416.638                 4                True  \n8             2820.000                 4                True  \n1             8174.607                 4                True  \n5            11905.560                 4                True  \n9             2275.200                 4                True  \n2             1627.450                 4                True  \n0            11253.225                 4                True  \n4            21309.500                 4                True  \n7             1149.498                 4                True  ",
      "text/html": "<div>\n<style scoped>\n    .dataframe tbody tr th:only-of-type {\n        vertical-align: middle;\n    }\n\n    .dataframe tbody tr th {\n        vertical-align: top;\n    }\n\n    .dataframe thead th {\n        text-align: right;\n    }\n</style>\n<table border=\"1\" class=\"dataframe\">\n  <thead>\n    <tr style=\"text-align: right;\">\n      <th></th>\n      <th>Make</th>\n      <th>Colour</th>\n      <th>Odometer (KM)</th>\n      <th>Doors</th>\n      <th>Price</th>\n      <th>Seats</th>\n      <th>Fuel pet 100KM</th>\n      <th>Total fuel used (L)</th>\n      <th>Number of Wheels</th>\n      <th>Passed Road Safety</th>\n    </tr>\n  </thead>\n  <tbody>\n    <tr>\n      <th>3</th>\n      <td>bmw</td>\n      <td>Black</td>\n      <td>11179</td>\n      <td>5</td>\n      <td>2200000</td>\n      <td>5.0</td>\n      <td>9.4</td>\n      <td>1050.826</td>\n      <td>4</td>\n      <td>True</td>\n    </tr>\n    <tr>\n      <th>6</th>\n      <td>honda</td>\n      <td>Blue</td>\n      <td>45698</td>\n      <td>4</td>\n      <td>750000</td>\n      <td>5.0</td>\n      <td>3.1</td>\n      <td>1416.638</td>\n      <td>4</td>\n      <td>True</td>\n    </tr>\n    <tr>\n      <th>8</th>\n      <td>toyota</td>\n      <td>White</td>\n      <td>60000</td>\n      <td>4</td>\n      <td>625000</td>\n      <td>5.0</td>\n      <td>4.7</td>\n      <td>2820.000</td>\n      <td>4</td>\n      <td>True</td>\n    </tr>\n    <tr>\n      <th>1</th>\n      <td>honda</td>\n      <td>Red</td>\n      <td>87899</td>\n      <td>4</td>\n      <td>500000</td>\n      <td>5.0</td>\n      <td>9.3</td>\n      <td>8174.607</td>\n      <td>4</td>\n      <td>True</td>\n    </tr>\n    <tr>\n      <th>5</th>\n      <td>toyota</td>\n      <td>Green</td>\n      <td>99213</td>\n      <td>4</td>\n      <td>450000</td>\n      <td>5.0</td>\n      <td>12.0</td>\n      <td>11905.560</td>\n      <td>4</td>\n      <td>True</td>\n    </tr>\n    <tr>\n      <th>9</th>\n      <td>nissan</td>\n      <td>White</td>\n      <td>31600</td>\n      <td>4</td>\n      <td>970000</td>\n      <td>5.0</td>\n      <td>7.2</td>\n      <td>2275.200</td>\n      <td>4</td>\n      <td>True</td>\n    </tr>\n    <tr>\n      <th>2</th>\n      <td>toyota</td>\n      <td>Blue</td>\n      <td>32549</td>\n      <td>3</td>\n      <td>700000</td>\n      <td>5.0</td>\n      <td>5.0</td>\n      <td>1627.450</td>\n      <td>4</td>\n      <td>True</td>\n    </tr>\n    <tr>\n      <th>0</th>\n      <td>toyota</td>\n      <td>White</td>\n      <td>150043</td>\n      <td>4</td>\n      <td>400000</td>\n      <td>5.0</td>\n      <td>7.5</td>\n      <td>11253.225</td>\n      <td>4</td>\n      <td>True</td>\n    </tr>\n    <tr>\n      <th>4</th>\n      <td>nissan</td>\n      <td>White</td>\n      <td>213095</td>\n      <td>4</td>\n      <td>350000</td>\n      <td>5.0</td>\n      <td>10.0</td>\n      <td>21309.500</td>\n      <td>4</td>\n      <td>True</td>\n    </tr>\n    <tr>\n      <th>7</th>\n      <td>honda</td>\n      <td>Blue</td>\n      <td>54738</td>\n      <td>4</td>\n      <td>700000</td>\n      <td>5.0</td>\n      <td>2.1</td>\n      <td>1149.498</td>\n      <td>4</td>\n      <td>True</td>\n    </tr>\n  </tbody>\n</table>\n</div>"
     },
     "execution_count": 71,
     "metadata": {},
     "output_type": "execute_result"
    }
   ],
   "source": [
    "car_sales_shuffled"
   ],
   "metadata": {
    "collapsed": false
   }
  },
  {
   "cell_type": "code",
   "execution_count": 73,
   "outputs": [
    {
     "data": {
      "text/plain": "     Make Colour  Odometer (KM)  Doors   Price  Seats  Fuel pet 100KM  \\\n8  toyota  White          60000      4  625000    5.0             4.7   \n4  nissan  White         213095      4  350000    5.0            10.0   \n\n   Total fuel used (L)  Number of Wheels  Passed Road Safety  \n8               2820.0                 4                True  \n4              21309.5                 4                True  ",
      "text/html": "<div>\n<style scoped>\n    .dataframe tbody tr th:only-of-type {\n        vertical-align: middle;\n    }\n\n    .dataframe tbody tr th {\n        vertical-align: top;\n    }\n\n    .dataframe thead th {\n        text-align: right;\n    }\n</style>\n<table border=\"1\" class=\"dataframe\">\n  <thead>\n    <tr style=\"text-align: right;\">\n      <th></th>\n      <th>Make</th>\n      <th>Colour</th>\n      <th>Odometer (KM)</th>\n      <th>Doors</th>\n      <th>Price</th>\n      <th>Seats</th>\n      <th>Fuel pet 100KM</th>\n      <th>Total fuel used (L)</th>\n      <th>Number of Wheels</th>\n      <th>Passed Road Safety</th>\n    </tr>\n  </thead>\n  <tbody>\n    <tr>\n      <th>8</th>\n      <td>toyota</td>\n      <td>White</td>\n      <td>60000</td>\n      <td>4</td>\n      <td>625000</td>\n      <td>5.0</td>\n      <td>4.7</td>\n      <td>2820.0</td>\n      <td>4</td>\n      <td>True</td>\n    </tr>\n    <tr>\n      <th>4</th>\n      <td>nissan</td>\n      <td>White</td>\n      <td>213095</td>\n      <td>4</td>\n      <td>350000</td>\n      <td>5.0</td>\n      <td>10.0</td>\n      <td>21309.5</td>\n      <td>4</td>\n      <td>True</td>\n    </tr>\n  </tbody>\n</table>\n</div>"
     },
     "execution_count": 73,
     "metadata": {},
     "output_type": "execute_result"
    }
   ],
   "source": [
    "# for large dataset with more than 1 million rows its best to use a small fraction of our data to train our model i.e. 20%\n",
    "# using this will help the PC by using less computation power if pc is weak!\n",
    "car_sales_shuffled.sample(frac=0.2)"
   ],
   "metadata": {
    "collapsed": false
   }
  },
  {
   "cell_type": "code",
   "execution_count": 74,
   "outputs": [
    {
     "data": {
      "text/plain": "   index    Make Colour  Odometer (KM)  Doors    Price  Seats  Fuel pet 100KM  \\\n0      3     bmw  Black          11179      5  2200000    5.0             9.4   \n1      6   honda   Blue          45698      4   750000    5.0             3.1   \n2      8  toyota  White          60000      4   625000    5.0             4.7   \n3      1   honda    Red          87899      4   500000    5.0             9.3   \n4      5  toyota  Green          99213      4   450000    5.0            12.0   \n5      9  nissan  White          31600      4   970000    5.0             7.2   \n6      2  toyota   Blue          32549      3   700000    5.0             5.0   \n7      0  toyota  White         150043      4   400000    5.0             7.5   \n8      4  nissan  White         213095      4   350000    5.0            10.0   \n9      7   honda   Blue          54738      4   700000    5.0             2.1   \n\n   Total fuel used (L)  Number of Wheels  Passed Road Safety  \n0             1050.826                 4                True  \n1             1416.638                 4                True  \n2             2820.000                 4                True  \n3             8174.607                 4                True  \n4            11905.560                 4                True  \n5             2275.200                 4                True  \n6             1627.450                 4                True  \n7            11253.225                 4                True  \n8            21309.500                 4                True  \n9             1149.498                 4                True  ",
      "text/html": "<div>\n<style scoped>\n    .dataframe tbody tr th:only-of-type {\n        vertical-align: middle;\n    }\n\n    .dataframe tbody tr th {\n        vertical-align: top;\n    }\n\n    .dataframe thead th {\n        text-align: right;\n    }\n</style>\n<table border=\"1\" class=\"dataframe\">\n  <thead>\n    <tr style=\"text-align: right;\">\n      <th></th>\n      <th>index</th>\n      <th>Make</th>\n      <th>Colour</th>\n      <th>Odometer (KM)</th>\n      <th>Doors</th>\n      <th>Price</th>\n      <th>Seats</th>\n      <th>Fuel pet 100KM</th>\n      <th>Total fuel used (L)</th>\n      <th>Number of Wheels</th>\n      <th>Passed Road Safety</th>\n    </tr>\n  </thead>\n  <tbody>\n    <tr>\n      <th>0</th>\n      <td>3</td>\n      <td>bmw</td>\n      <td>Black</td>\n      <td>11179</td>\n      <td>5</td>\n      <td>2200000</td>\n      <td>5.0</td>\n      <td>9.4</td>\n      <td>1050.826</td>\n      <td>4</td>\n      <td>True</td>\n    </tr>\n    <tr>\n      <th>1</th>\n      <td>6</td>\n      <td>honda</td>\n      <td>Blue</td>\n      <td>45698</td>\n      <td>4</td>\n      <td>750000</td>\n      <td>5.0</td>\n      <td>3.1</td>\n      <td>1416.638</td>\n      <td>4</td>\n      <td>True</td>\n    </tr>\n    <tr>\n      <th>2</th>\n      <td>8</td>\n      <td>toyota</td>\n      <td>White</td>\n      <td>60000</td>\n      <td>4</td>\n      <td>625000</td>\n      <td>5.0</td>\n      <td>4.7</td>\n      <td>2820.000</td>\n      <td>4</td>\n      <td>True</td>\n    </tr>\n    <tr>\n      <th>3</th>\n      <td>1</td>\n      <td>honda</td>\n      <td>Red</td>\n      <td>87899</td>\n      <td>4</td>\n      <td>500000</td>\n      <td>5.0</td>\n      <td>9.3</td>\n      <td>8174.607</td>\n      <td>4</td>\n      <td>True</td>\n    </tr>\n    <tr>\n      <th>4</th>\n      <td>5</td>\n      <td>toyota</td>\n      <td>Green</td>\n      <td>99213</td>\n      <td>4</td>\n      <td>450000</td>\n      <td>5.0</td>\n      <td>12.0</td>\n      <td>11905.560</td>\n      <td>4</td>\n      <td>True</td>\n    </tr>\n    <tr>\n      <th>5</th>\n      <td>9</td>\n      <td>nissan</td>\n      <td>White</td>\n      <td>31600</td>\n      <td>4</td>\n      <td>970000</td>\n      <td>5.0</td>\n      <td>7.2</td>\n      <td>2275.200</td>\n      <td>4</td>\n      <td>True</td>\n    </tr>\n    <tr>\n      <th>6</th>\n      <td>2</td>\n      <td>toyota</td>\n      <td>Blue</td>\n      <td>32549</td>\n      <td>3</td>\n      <td>700000</td>\n      <td>5.0</td>\n      <td>5.0</td>\n      <td>1627.450</td>\n      <td>4</td>\n      <td>True</td>\n    </tr>\n    <tr>\n      <th>7</th>\n      <td>0</td>\n      <td>toyota</td>\n      <td>White</td>\n      <td>150043</td>\n      <td>4</td>\n      <td>400000</td>\n      <td>5.0</td>\n      <td>7.5</td>\n      <td>11253.225</td>\n      <td>4</td>\n      <td>True</td>\n    </tr>\n    <tr>\n      <th>8</th>\n      <td>4</td>\n      <td>nissan</td>\n      <td>White</td>\n      <td>213095</td>\n      <td>4</td>\n      <td>350000</td>\n      <td>5.0</td>\n      <td>10.0</td>\n      <td>21309.500</td>\n      <td>4</td>\n      <td>True</td>\n    </tr>\n    <tr>\n      <th>9</th>\n      <td>7</td>\n      <td>honda</td>\n      <td>Blue</td>\n      <td>54738</td>\n      <td>4</td>\n      <td>700000</td>\n      <td>5.0</td>\n      <td>2.1</td>\n      <td>1149.498</td>\n      <td>4</td>\n      <td>True</td>\n    </tr>\n  </tbody>\n</table>\n</div>"
     },
     "execution_count": 74,
     "metadata": {},
     "output_type": "execute_result"
    }
   ],
   "source": [
    "car_sales_shuffled.reset_index()"
   ],
   "metadata": {
    "collapsed": false
   }
  },
  {
   "cell_type": "code",
   "execution_count": 75,
   "outputs": [],
   "source": [
    "car_sales_shuffled.reset_index(drop = True, inplace = True)"
   ],
   "metadata": {
    "collapsed": false
   }
  },
  {
   "cell_type": "code",
   "execution_count": 76,
   "outputs": [
    {
     "data": {
      "text/plain": "     Make Colour  Odometer (KM)  Doors    Price  Seats  Fuel pet 100KM  \\\n0     bmw  Black          11179      5  2200000    5.0             9.4   \n1   honda   Blue          45698      4   750000    5.0             3.1   \n2  toyota  White          60000      4   625000    5.0             4.7   \n3   honda    Red          87899      4   500000    5.0             9.3   \n4  toyota  Green          99213      4   450000    5.0            12.0   \n5  nissan  White          31600      4   970000    5.0             7.2   \n6  toyota   Blue          32549      3   700000    5.0             5.0   \n7  toyota  White         150043      4   400000    5.0             7.5   \n8  nissan  White         213095      4   350000    5.0            10.0   \n9   honda   Blue          54738      4   700000    5.0             2.1   \n\n   Total fuel used (L)  Number of Wheels  Passed Road Safety  \n0             1050.826                 4                True  \n1             1416.638                 4                True  \n2             2820.000                 4                True  \n3             8174.607                 4                True  \n4            11905.560                 4                True  \n5             2275.200                 4                True  \n6             1627.450                 4                True  \n7            11253.225                 4                True  \n8            21309.500                 4                True  \n9             1149.498                 4                True  ",
      "text/html": "<div>\n<style scoped>\n    .dataframe tbody tr th:only-of-type {\n        vertical-align: middle;\n    }\n\n    .dataframe tbody tr th {\n        vertical-align: top;\n    }\n\n    .dataframe thead th {\n        text-align: right;\n    }\n</style>\n<table border=\"1\" class=\"dataframe\">\n  <thead>\n    <tr style=\"text-align: right;\">\n      <th></th>\n      <th>Make</th>\n      <th>Colour</th>\n      <th>Odometer (KM)</th>\n      <th>Doors</th>\n      <th>Price</th>\n      <th>Seats</th>\n      <th>Fuel pet 100KM</th>\n      <th>Total fuel used (L)</th>\n      <th>Number of Wheels</th>\n      <th>Passed Road Safety</th>\n    </tr>\n  </thead>\n  <tbody>\n    <tr>\n      <th>0</th>\n      <td>bmw</td>\n      <td>Black</td>\n      <td>11179</td>\n      <td>5</td>\n      <td>2200000</td>\n      <td>5.0</td>\n      <td>9.4</td>\n      <td>1050.826</td>\n      <td>4</td>\n      <td>True</td>\n    </tr>\n    <tr>\n      <th>1</th>\n      <td>honda</td>\n      <td>Blue</td>\n      <td>45698</td>\n      <td>4</td>\n      <td>750000</td>\n      <td>5.0</td>\n      <td>3.1</td>\n      <td>1416.638</td>\n      <td>4</td>\n      <td>True</td>\n    </tr>\n    <tr>\n      <th>2</th>\n      <td>toyota</td>\n      <td>White</td>\n      <td>60000</td>\n      <td>4</td>\n      <td>625000</td>\n      <td>5.0</td>\n      <td>4.7</td>\n      <td>2820.000</td>\n      <td>4</td>\n      <td>True</td>\n    </tr>\n    <tr>\n      <th>3</th>\n      <td>honda</td>\n      <td>Red</td>\n      <td>87899</td>\n      <td>4</td>\n      <td>500000</td>\n      <td>5.0</td>\n      <td>9.3</td>\n      <td>8174.607</td>\n      <td>4</td>\n      <td>True</td>\n    </tr>\n    <tr>\n      <th>4</th>\n      <td>toyota</td>\n      <td>Green</td>\n      <td>99213</td>\n      <td>4</td>\n      <td>450000</td>\n      <td>5.0</td>\n      <td>12.0</td>\n      <td>11905.560</td>\n      <td>4</td>\n      <td>True</td>\n    </tr>\n    <tr>\n      <th>5</th>\n      <td>nissan</td>\n      <td>White</td>\n      <td>31600</td>\n      <td>4</td>\n      <td>970000</td>\n      <td>5.0</td>\n      <td>7.2</td>\n      <td>2275.200</td>\n      <td>4</td>\n      <td>True</td>\n    </tr>\n    <tr>\n      <th>6</th>\n      <td>toyota</td>\n      <td>Blue</td>\n      <td>32549</td>\n      <td>3</td>\n      <td>700000</td>\n      <td>5.0</td>\n      <td>5.0</td>\n      <td>1627.450</td>\n      <td>4</td>\n      <td>True</td>\n    </tr>\n    <tr>\n      <th>7</th>\n      <td>toyota</td>\n      <td>White</td>\n      <td>150043</td>\n      <td>4</td>\n      <td>400000</td>\n      <td>5.0</td>\n      <td>7.5</td>\n      <td>11253.225</td>\n      <td>4</td>\n      <td>True</td>\n    </tr>\n    <tr>\n      <th>8</th>\n      <td>nissan</td>\n      <td>White</td>\n      <td>213095</td>\n      <td>4</td>\n      <td>350000</td>\n      <td>5.0</td>\n      <td>10.0</td>\n      <td>21309.500</td>\n      <td>4</td>\n      <td>True</td>\n    </tr>\n    <tr>\n      <th>9</th>\n      <td>honda</td>\n      <td>Blue</td>\n      <td>54738</td>\n      <td>4</td>\n      <td>700000</td>\n      <td>5.0</td>\n      <td>2.1</td>\n      <td>1149.498</td>\n      <td>4</td>\n      <td>True</td>\n    </tr>\n  </tbody>\n</table>\n</div>"
     },
     "execution_count": 76,
     "metadata": {},
     "output_type": "execute_result"
    }
   ],
   "source": [
    "car_sales_shuffled"
   ],
   "metadata": {
    "collapsed": false
   }
  },
  {
   "cell_type": "code",
   "execution_count": 77,
   "outputs": [
    {
     "data": {
      "text/plain": "     Make Colour  Odometer (KM)  Doors    Price  Seats  Fuel pet 100KM  \\\n0  toyota  White      93776.875      4   400000    5.0             7.5   \n1   honda    Red      54936.875      4   500000    5.0             9.3   \n2  toyota   Blue      20343.125      3   700000    5.0             5.0   \n3     bmw  Black       6986.875      5  2200000    5.0             9.4   \n4  nissan  White     133184.375      4   350000    5.0            10.0   \n5  toyota  Green      62008.125      4   450000    5.0            12.0   \n6   honda   Blue      28561.250      4   750000    5.0             3.1   \n7   honda   Blue      34211.250      4   700000    5.0             2.1   \n8  toyota  White      37500.000      4   625000    5.0             4.7   \n9  nissan  White      19750.000      4   970000    5.0             7.2   \n\n   Total fuel used (L)  Number of Wheels  Passed Road Safety  \n0            11253.225                 4                True  \n1             8174.607                 4                True  \n2             1627.450                 4                True  \n3             1050.826                 4                True  \n4            21309.500                 4                True  \n5            11905.560                 4                True  \n6             1416.638                 4                True  \n7             1149.498                 4                True  \n8             2820.000                 4                True  \n9             2275.200                 4                True  ",
      "text/html": "<div>\n<style scoped>\n    .dataframe tbody tr th:only-of-type {\n        vertical-align: middle;\n    }\n\n    .dataframe tbody tr th {\n        vertical-align: top;\n    }\n\n    .dataframe thead th {\n        text-align: right;\n    }\n</style>\n<table border=\"1\" class=\"dataframe\">\n  <thead>\n    <tr style=\"text-align: right;\">\n      <th></th>\n      <th>Make</th>\n      <th>Colour</th>\n      <th>Odometer (KM)</th>\n      <th>Doors</th>\n      <th>Price</th>\n      <th>Seats</th>\n      <th>Fuel pet 100KM</th>\n      <th>Total fuel used (L)</th>\n      <th>Number of Wheels</th>\n      <th>Passed Road Safety</th>\n    </tr>\n  </thead>\n  <tbody>\n    <tr>\n      <th>0</th>\n      <td>toyota</td>\n      <td>White</td>\n      <td>93776.875</td>\n      <td>4</td>\n      <td>400000</td>\n      <td>5.0</td>\n      <td>7.5</td>\n      <td>11253.225</td>\n      <td>4</td>\n      <td>True</td>\n    </tr>\n    <tr>\n      <th>1</th>\n      <td>honda</td>\n      <td>Red</td>\n      <td>54936.875</td>\n      <td>4</td>\n      <td>500000</td>\n      <td>5.0</td>\n      <td>9.3</td>\n      <td>8174.607</td>\n      <td>4</td>\n      <td>True</td>\n    </tr>\n    <tr>\n      <th>2</th>\n      <td>toyota</td>\n      <td>Blue</td>\n      <td>20343.125</td>\n      <td>3</td>\n      <td>700000</td>\n      <td>5.0</td>\n      <td>5.0</td>\n      <td>1627.450</td>\n      <td>4</td>\n      <td>True</td>\n    </tr>\n    <tr>\n      <th>3</th>\n      <td>bmw</td>\n      <td>Black</td>\n      <td>6986.875</td>\n      <td>5</td>\n      <td>2200000</td>\n      <td>5.0</td>\n      <td>9.4</td>\n      <td>1050.826</td>\n      <td>4</td>\n      <td>True</td>\n    </tr>\n    <tr>\n      <th>4</th>\n      <td>nissan</td>\n      <td>White</td>\n      <td>133184.375</td>\n      <td>4</td>\n      <td>350000</td>\n      <td>5.0</td>\n      <td>10.0</td>\n      <td>21309.500</td>\n      <td>4</td>\n      <td>True</td>\n    </tr>\n    <tr>\n      <th>5</th>\n      <td>toyota</td>\n      <td>Green</td>\n      <td>62008.125</td>\n      <td>4</td>\n      <td>450000</td>\n      <td>5.0</td>\n      <td>12.0</td>\n      <td>11905.560</td>\n      <td>4</td>\n      <td>True</td>\n    </tr>\n    <tr>\n      <th>6</th>\n      <td>honda</td>\n      <td>Blue</td>\n      <td>28561.250</td>\n      <td>4</td>\n      <td>750000</td>\n      <td>5.0</td>\n      <td>3.1</td>\n      <td>1416.638</td>\n      <td>4</td>\n      <td>True</td>\n    </tr>\n    <tr>\n      <th>7</th>\n      <td>honda</td>\n      <td>Blue</td>\n      <td>34211.250</td>\n      <td>4</td>\n      <td>700000</td>\n      <td>5.0</td>\n      <td>2.1</td>\n      <td>1149.498</td>\n      <td>4</td>\n      <td>True</td>\n    </tr>\n    <tr>\n      <th>8</th>\n      <td>toyota</td>\n      <td>White</td>\n      <td>37500.000</td>\n      <td>4</td>\n      <td>625000</td>\n      <td>5.0</td>\n      <td>4.7</td>\n      <td>2820.000</td>\n      <td>4</td>\n      <td>True</td>\n    </tr>\n    <tr>\n      <th>9</th>\n      <td>nissan</td>\n      <td>White</td>\n      <td>19750.000</td>\n      <td>4</td>\n      <td>970000</td>\n      <td>5.0</td>\n      <td>7.2</td>\n      <td>2275.200</td>\n      <td>4</td>\n      <td>True</td>\n    </tr>\n  </tbody>\n</table>\n</div>"
     },
     "execution_count": 77,
     "metadata": {},
     "output_type": "execute_result"
    }
   ],
   "source": [
    "# how to apply a function to a column:\n",
    "\n",
    "# convert odometer to miles from km\n",
    "\n",
    "car_sales[\"Odometer (KM)\"] = car_sales[\"Odometer (KM)\"].apply(lambda x : x/1.6)\n",
    "\n",
    "car_sales"
   ],
   "metadata": {
    "collapsed": false
   }
  },
  {
   "cell_type": "code",
   "execution_count": null,
   "outputs": [],
   "source": [],
   "metadata": {
    "collapsed": false
   }
  }
 ],
 "metadata": {
  "kernelspec": {
   "display_name": "Python 3 (ipykernel)",
   "language": "python",
   "name": "python3"
  },
  "language_info": {
   "codemirror_mode": {
    "name": "ipython",
    "version": 3
   },
   "file_extension": ".py",
   "mimetype": "text/x-python",
   "name": "python",
   "nbconvert_exporter": "python",
   "pygments_lexer": "ipython3",
   "version": "3.9.12"
  }
 },
 "nbformat": 4,
 "nbformat_minor": 5
}
