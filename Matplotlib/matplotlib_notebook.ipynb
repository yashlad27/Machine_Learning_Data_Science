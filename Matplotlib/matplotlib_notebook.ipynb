{
 "cells": [
  {
   "cell_type": "markdown",
   "source": [
    "## Why Matplotlib\n",
    "\n",
    "1. Built on NumPy arrays\n",
    "2. Integrates directly with Pandas\n",
    "3. Can create basic and Advanced plots\n",
    "4. Simple interface"
   ],
   "metadata": {
    "collapsed": false
   }
  },
  {
   "cell_type": "code",
   "execution_count": null,
   "outputs": [],
   "source": [],
   "metadata": {
    "collapsed": false
   }
  }
 ],
 "metadata": {
  "kernelspec": {
   "display_name": "Python 3",
   "language": "python",
   "name": "python3"
  },
  "language_info": {
   "codemirror_mode": {
    "name": "ipython",
    "version": 2
   },
   "file_extension": ".py",
   "mimetype": "text/x-python",
   "name": "python",
   "nbconvert_exporter": "python",
   "pygments_lexer": "ipython2",
   "version": "2.7.6"
  }
 },
 "nbformat": 4,
 "nbformat_minor": 0
}
