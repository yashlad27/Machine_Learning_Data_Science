{
 "cells": [
  {
   "cell_type": "markdown",
   "source": [
    "## Why scikit learn?\n",
    "* built on numpy and matplotlib\n",
    "* has many inbuilt machine learning models\n",
    "* methods to evaluate your machine learning models\n",
    "* very well designed API\n",
    "\n",
    "## Scikit Learn Workflow:\n",
    "1. Get data ready\n",
    "2. pick a model (to suit your problem)\n",
    "3. fit the model to the data and make a prediction\n",
    "4. evaluate the model\n",
    "5. improve the experimentation\n",
    "6. save and reload your trained model"
   ],
   "metadata": {
    "collapsed": false
   }
  },
  {
   "cell_type": "code",
   "execution_count": null,
   "outputs": [],
   "source": [],
   "metadata": {
    "collapsed": false
   }
  }
 ],
 "metadata": {
  "kernelspec": {
   "display_name": "Python 3",
   "language": "python",
   "name": "python3"
  },
  "language_info": {
   "codemirror_mode": {
    "name": "ipython",
    "version": 2
   },
   "file_extension": ".py",
   "mimetype": "text/x-python",
   "name": "python",
   "nbconvert_exporter": "python",
   "pygments_lexer": "ipython2",
   "version": "2.7.6"
  }
 },
 "nbformat": 4,
 "nbformat_minor": 0
}
